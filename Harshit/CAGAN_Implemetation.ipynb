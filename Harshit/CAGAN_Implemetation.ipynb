{
  "nbformat": 4,
  "nbformat_minor": 0,
  "metadata": {
    "colab": {
      "name": "CAGAN.ipynb",
      "provenance": [],
      "collapsed_sections": [],
      "mount_file_id": "1COW7Ph0tNarKYYKca08RpwWHYjppu8Ni",
      "authorship_tag": "ABX9TyMhjlVBUL0AovbFBoZnM+i/",
      "include_colab_link": true
    },
    "kernelspec": {
      "name": "python3",
      "display_name": "Python 3"
    }
  },
  "cells": [
    {
      "cell_type": "markdown",
      "metadata": {
        "id": "view-in-github",
        "colab_type": "text"
      },
      "source": [
        "<a href=\"https://colab.research.google.com/github/arjunparmar/VIRTUON/blob/main/Harshit/CAGAN_Implemetation.ipynb\" target=\"_parent\"><img src=\"https://colab.research.google.com/assets/colab-badge.svg\" alt=\"Open In Colab\"/></a>"
      ]
    },
    {
      "cell_type": "code",
      "metadata": {
        "id": "isjuUYo1hvaq"
      },
      "source": [
        "import numpy as np\r\n",
        "import pandas as pd\r\n",
        "import matplotlib.pyplot as plt\r\n",
        "import tensorflow as tf\r\n",
        "from tqdm import tqdm\r\n",
        "import cv2 as cv\r\n",
        "\r\n",
        "%matplotlib inline\r\n",
        "\r\n",
        "from tensorflow.keras import layers\r\n",
        "from tensorflow.keras.models import Model\r\n",
        "from tensorflow_addons.layers import InstanceNormalization\r\n",
        "from tensorflow.keras.preprocessing import image\r\n",
        "from tensorflow.image import resize\r\n",
        "from tensorflow import reshape"
      ],
      "execution_count": null,
      "outputs": []
    },
    {
      "cell_type": "code",
      "metadata": {
        "id": "1L6JE_RLjPEF"
      },
      "source": [
        "def generator(input, n_filters = 64, k_size = 4, stride = 2):\r\n",
        "    \r\n",
        "    # Encoder Layer\r\n",
        "\r\n",
        "    # Stage 1\r\n",
        "    e1 = layers.Conv2D(n_filters, kernel_size = k_size, strides = stride, padding = \"same\", name = \"Encoder_1\")(input)\r\n",
        "    n1 = e1\r\n",
        "    a1 = layers.LeakyReLU(name = \"Encoder_Activation_1\")(e1)\r\n",
        "    \r\n",
        "    # Stage 2\r\n",
        "    e2 = layers.Conv2D(n_filters*2, kernel_size = k_size, strides = stride, padding = \"same\", name = \"Encoder_2\")(a1)\r\n",
        "    n2 = InstanceNormalization(name = \"Encoder_Instance_Normalization_2\")(e2)\r\n",
        "    a2 = layers.LeakyReLU(name = \"Encoder_Activation_2\")(n2)\r\n",
        "\r\n",
        "    # Stage 3\r\n",
        "    e3 = layers.Conv2D(n_filters*4, kernel_size = k_size, strides = stride, padding = \"same\", name = \"Encoder_3\")(a2)\r\n",
        "    n3 = InstanceNormalization(name = \"Encoder_Instance_Normalization_3\")(e3)\r\n",
        "    a3 = layers.LeakyReLU(name = \"Encoder_Activation_3\")(n3)\r\n",
        "\r\n",
        "    # Stage 4\r\n",
        "    e4 = layers.Conv2D(n_filters*8, kernel_size = k_size, strides = stride, padding = \"same\", name = \"Encoder_4\")(a3)\r\n",
        "    # n3 = InstanceNormalization(name = \"Encoder_Instance_Normalization_4\")(e4)\r\n",
        "    encoder_output = layers.LeakyReLU(name = \"Encoder_Activation_4\")(e4)\r\n",
        "\r\n",
        "    # Decoder Layer\r\n",
        "\r\n",
        "    # Stage 1\r\n",
        "    d1 = layers.Conv2DTranspose(n_filters*4, kernel_size = k_size, strides = stride, padding = \"same\", name = \"Decoder_1\")(encoder_output)\r\n",
        "    d1 = InstanceNormalization(name = \"Decoder_Instance_Normalization_1\")(d1)\r\n",
        "    con1 = layers.concatenate([d1,n3])\r\n",
        "    a1 = layers.ReLU(name = \"Decoder_Activation_1\")(con1)\r\n",
        "\r\n",
        "    # Stage 2\r\n",
        "    d2 = layers.Conv2DTranspose(n_filters*2, kernel_size = k_size, strides = stride, padding = \"same\", name = \"Decoder_2\")(a1)\r\n",
        "    d2 = InstanceNormalization(name = \"Decoder_Instance_Normalization_2\")(d2)\r\n",
        "    con2 = layers.concatenate([d2,n2])\r\n",
        "    a2 = layers.ReLU(name = \"Decoder_Activation_2\")(con2)\r\n",
        "\r\n",
        "    # Stage 3\r\n",
        "    d3 = layers.Conv2DTranspose(n_filters, kernel_size = k_size, strides = stride, padding = \"same\", name = \"Decoder_3\")(a2)\r\n",
        "    d3 = InstanceNormalization(name = \"Decoder_Instance_Normalization_3\")(d3)\r\n",
        "    con3 = layers.concatenate([d3,n1])\r\n",
        "    decoder_output = layers.ReLU(name = \"Decoder_Activation_3\")(con3)\r\n",
        "\r\n",
        "    # Output Stage\r\n",
        "    output = layers.Conv2DTranspose(4, kernel_size = 2, strides = stride, padding = \"same\", name = \"Output\", activation='sigmoid')(decoder_output)\r\n",
        "\r\n",
        "    return Model(input, output, name = \"CAGAN Generator\")"
      ],
      "execution_count": null,
      "outputs": []
    },
    {
      "cell_type": "code",
      "metadata": {
        "colab": {
          "base_uri": "https://localhost:8080/"
        },
        "id": "zq-jDuk7odVQ",
        "outputId": "5f813447-fb4e-4a52-ed62-cbdddcd0e87f"
      },
      "source": [
        "test_input = layers.Input((192,256,9), name = \"Input\")\r\n",
        "test = generator(test_input)\r\n",
        "# tf.keras.utils.plot_model(test)\r\n",
        "test.summary()"
      ],
      "execution_count": null,
      "outputs": [
        {
          "output_type": "stream",
          "text": [
            "Model: \"CAGAN Generator\"\n",
            "__________________________________________________________________________________________________\n",
            "Layer (type)                    Output Shape         Param #     Connected to                     \n",
            "==================================================================================================\n",
            "Input (InputLayer)              [(None, 192, 256, 9) 0                                            \n",
            "__________________________________________________________________________________________________\n",
            "Encoder_1 (Conv2D)              (None, 96, 128, 64)  9280        Input[0][0]                      \n",
            "__________________________________________________________________________________________________\n",
            "Encoder_Activation_1 (LeakyReLU (None, 96, 128, 64)  0           Encoder_1[0][0]                  \n",
            "__________________________________________________________________________________________________\n",
            "Encoder_2 (Conv2D)              (None, 48, 64, 128)  131200      Encoder_Activation_1[0][0]       \n",
            "__________________________________________________________________________________________________\n",
            "Encoder_Instance_Normalization_ (None, 48, 64, 128)  256         Encoder_2[0][0]                  \n",
            "__________________________________________________________________________________________________\n",
            "Encoder_Activation_2 (LeakyReLU (None, 48, 64, 128)  0           Encoder_Instance_Normalization_2[\n",
            "__________________________________________________________________________________________________\n",
            "Encoder_3 (Conv2D)              (None, 24, 32, 256)  524544      Encoder_Activation_2[0][0]       \n",
            "__________________________________________________________________________________________________\n",
            "Encoder_Instance_Normalization_ (None, 24, 32, 256)  512         Encoder_3[0][0]                  \n",
            "__________________________________________________________________________________________________\n",
            "Encoder_Activation_3 (LeakyReLU (None, 24, 32, 256)  0           Encoder_Instance_Normalization_3[\n",
            "__________________________________________________________________________________________________\n",
            "Encoder_4 (Conv2D)              (None, 12, 16, 512)  2097664     Encoder_Activation_3[0][0]       \n",
            "__________________________________________________________________________________________________\n",
            "Encoder_Activation_4 (LeakyReLU (None, 12, 16, 512)  0           Encoder_4[0][0]                  \n",
            "__________________________________________________________________________________________________\n",
            "Decoder_1 (Conv2DTranspose)     (None, 24, 32, 256)  2097408     Encoder_Activation_4[0][0]       \n",
            "__________________________________________________________________________________________________\n",
            "Decoder_Instance_Normalization_ (None, 24, 32, 256)  512         Decoder_1[0][0]                  \n",
            "__________________________________________________________________________________________________\n",
            "concatenate_24 (Concatenate)    (None, 24, 32, 512)  0           Decoder_Instance_Normalization_1[\n",
            "                                                                 Encoder_Instance_Normalization_3[\n",
            "__________________________________________________________________________________________________\n",
            "Decoder_Activation_1 (ReLU)     (None, 24, 32, 512)  0           concatenate_24[0][0]             \n",
            "__________________________________________________________________________________________________\n",
            "Decoder_2 (Conv2DTranspose)     (None, 48, 64, 128)  1048704     Decoder_Activation_1[0][0]       \n",
            "__________________________________________________________________________________________________\n",
            "Decoder_Instance_Normalization_ (None, 48, 64, 128)  256         Decoder_2[0][0]                  \n",
            "__________________________________________________________________________________________________\n",
            "concatenate_25 (Concatenate)    (None, 48, 64, 256)  0           Decoder_Instance_Normalization_2[\n",
            "                                                                 Encoder_Instance_Normalization_2[\n",
            "__________________________________________________________________________________________________\n",
            "Decoder_Activation_2 (ReLU)     (None, 48, 64, 256)  0           concatenate_25[0][0]             \n",
            "__________________________________________________________________________________________________\n",
            "Decoder_3 (Conv2DTranspose)     (None, 96, 128, 64)  262208      Decoder_Activation_2[0][0]       \n",
            "__________________________________________________________________________________________________\n",
            "Decoder_Instance_Normalization_ (None, 96, 128, 64)  128         Decoder_3[0][0]                  \n",
            "__________________________________________________________________________________________________\n",
            "concatenate_26 (Concatenate)    (None, 96, 128, 128) 0           Decoder_Instance_Normalization_3[\n",
            "                                                                 Encoder_1[0][0]                  \n",
            "__________________________________________________________________________________________________\n",
            "Decoder_Activation_3 (ReLU)     (None, 96, 128, 128) 0           concatenate_26[0][0]             \n",
            "__________________________________________________________________________________________________\n",
            "Output (Conv2DTranspose)        (None, 192, 256, 4)  2052        Decoder_Activation_3[0][0]       \n",
            "==================================================================================================\n",
            "Total params: 6,174,724\n",
            "Trainable params: 6,174,724\n",
            "Non-trainable params: 0\n",
            "__________________________________________________________________________________________________\n"
          ],
          "name": "stdout"
        }
      ]
    },
    {
      "cell_type": "code",
      "metadata": {
        "id": "spkwrk66xNS4"
      },
      "source": [
        "def discriminator(input, n_filters = 64, k_size = 4, stride = 2):\r\n",
        "    \r\n",
        "    x = layers.Conv2D(n_filters, kernel_size=k_size, strides=stride, name = \"Layer_64\", padding = 'same')(input)\r\n",
        "    x = layers.LeakyReLU(name = \"Layer_64_Activation\")(x)\r\n",
        "\r\n",
        "    x = layers.Conv2D(n_filters*2, kernel_size=k_size, strides=stride, name = \"Layer_128\", padding = 'same')(x)\r\n",
        "    x = layers.BatchNormalization(name = \"Layer_128_BatchNormalization\")(x)\r\n",
        "    x = layers.LeakyReLU(name = \"Layer_128_Activation\")(x)\r\n",
        "\r\n",
        "    x = layers.Conv2D(n_filters*4, kernel_size=k_size, strides=stride, name = \"Layer_256\", padding = 'same')(x)\r\n",
        "    x = layers.BatchNormalization(name = \"Layer_256_BatchNormalization\")(x)\r\n",
        "    x = layers.LeakyReLU(name = \"Layer_256_Activation\")(x)\r\n",
        "\r\n",
        "    x = layers.Conv2D(n_filters*8, kernel_size=k_size, strides=1, name = \"Layer_512\", padding = 'same')(x)\r\n",
        "    x = layers.BatchNormalization(name = \"Layer_512_BatchNormalization\")(x)\r\n",
        "    x = layers.LeakyReLU(name = \"Layer_512_Activation\")(x)\r\n",
        "\r\n",
        "    x = layers.Conv2D(1, kernel_size= 4, strides = 1, name = \"Output\", padding = 'same')(x)\r\n",
        "\r\n",
        "    return Model(input, x, name = \"CAGAN Discriminator\")"
      ],
      "execution_count": null,
      "outputs": []
    },
    {
      "cell_type": "code",
      "metadata": {
        "colab": {
          "base_uri": "https://localhost:8080/"
        },
        "id": "7GqR6hF72BtA",
        "outputId": "38c70007-e799-4f5f-fe52-c485d7db807b"
      },
      "source": [
        "check = discriminator(layers.Input((192,256,6), name = \"Input\"))\r\n",
        "check.summary()"
      ],
      "execution_count": null,
      "outputs": [
        {
          "output_type": "stream",
          "text": [
            "Model: \"CAGAN Discriminator\"\n",
            "_________________________________________________________________\n",
            "Layer (type)                 Output Shape              Param #   \n",
            "=================================================================\n",
            "Input (InputLayer)           [(None, 192, 256, 6)]     0         \n",
            "_________________________________________________________________\n",
            "Layer_64 (Conv2D)            (None, 96, 128, 64)       6208      \n",
            "_________________________________________________________________\n",
            "Layer_64_Activation (LeakyRe (None, 96, 128, 64)       0         \n",
            "_________________________________________________________________\n",
            "Layer_128 (Conv2D)           (None, 48, 64, 128)       131200    \n",
            "_________________________________________________________________\n",
            "Layer_128_BatchNormalization (None, 48, 64, 128)       512       \n",
            "_________________________________________________________________\n",
            "Layer_128_Activation (LeakyR (None, 48, 64, 128)       0         \n",
            "_________________________________________________________________\n",
            "Layer_256 (Conv2D)           (None, 24, 32, 256)       524544    \n",
            "_________________________________________________________________\n",
            "Layer_256_BatchNormalization (None, 24, 32, 256)       1024      \n",
            "_________________________________________________________________\n",
            "Layer_256_Activation (LeakyR (None, 24, 32, 256)       0         \n",
            "_________________________________________________________________\n",
            "Layer_512 (Conv2D)           (None, 24, 32, 512)       2097664   \n",
            "_________________________________________________________________\n",
            "Layer_512_BatchNormalization (None, 24, 32, 512)       2048      \n",
            "_________________________________________________________________\n",
            "Layer_512_Activation (LeakyR (None, 24, 32, 512)       0         \n",
            "_________________________________________________________________\n",
            "Output (Conv2D)              (None, 24, 32, 1)         8193      \n",
            "=================================================================\n",
            "Total params: 2,771,393\n",
            "Trainable params: 2,769,601\n",
            "Non-trainable params: 1,792\n",
            "_________________________________________________________________\n"
          ],
          "name": "stdout"
        }
      ]
    },
    {
      "cell_type": "code",
      "metadata": {
        "id": "L-cZEuvs5n7Q"
      },
      "source": [
        ""
      ],
      "execution_count": null,
      "outputs": []
    }
  ]
}