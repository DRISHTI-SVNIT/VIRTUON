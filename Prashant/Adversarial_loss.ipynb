{
  "nbformat": 4,
  "nbformat_minor": 0,
  "metadata": {
    "colab": {
      "name": "Adversarial_loss.ipynb",
      "provenance": [],
      "authorship_tag": "ABX9TyMKhbKnNZIVVXqDThUE1Bl2",
      "include_colab_link": true
    },
    "kernelspec": {
      "name": "python3",
      "display_name": "Python 3"
    }
  },
  "cells": [
    {
      "cell_type": "markdown",
      "metadata": {
        "id": "view-in-github",
        "colab_type": "text"
      },
      "source": [
        "<a href=\"https://colab.research.google.com/github/arjunparmar/VIRTUON/blob/main/Prashant/Adversarial_loss.ipynb\" target=\"_parent\"><img src=\"https://colab.research.google.com/assets/colab-badge.svg\" alt=\"Open In Colab\"/></a>"
      ]
    },
    {
      "cell_type": "code",
      "metadata": {
        "id": "3otxk8vX1AI2"
      },
      "source": [
        "model = tf.keras.Sequential([tf.keras.layers.Dense(1, input_shape=(2,))])\r\n",
        "loss_fn = tf.keras.losses.MeanSquaredError()\r\n",
        "optimizer = tf.keras.optimizers.SGD()\r\n",
        "\r\n",
        "for x, y in train_dataset:\r\n",
        "  with tf.GradientTape() as tape_w:\r\n",
        "\r\n",
        "    \r\n",
        "    with tf.GradientTape() as tape_x:\r\n",
        "      tape_x.watch(x)\r\n",
        "\r\n",
        "      \r\n",
        "      labeled_loss = loss_fn(y, model(x))\r\n",
        "\r\n",
        "\r\n",
        "    adv_loss = nsl.keras.adversarial_loss(\r\n",
        "        x, y, model, loss_fn, labeled_loss=labeled_loss, gradient_tape=tape_x)\r\n",
        "\r\n",
        "\r\n",
        "    total_loss = labeled_loss + adv_loss\r\n",
        "\r\n",
        "\r\n",
        "  gradients = tape_w.gradient(total_loss, model.trainable_variables)\r\n",
        "  optimizer.apply_gradients(zip(gradients, model.trainable_variables))"
      ],
      "execution_count": null,
      "outputs": []
    }
  ]
}