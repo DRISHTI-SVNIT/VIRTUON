{
  "nbformat": 4,
  "nbformat_minor": 0,
  "metadata": {
    "colab": {
      "name": "Texturing Module.ipynb",
      "provenance": [],
      "authorship_tag": "ABX9TyPKzpvTlJf+hm+hmQzk+FZp",
      "include_colab_link": true
    },
    "kernelspec": {
      "name": "python3",
      "display_name": "Python 3"
    },
    "accelerator": "GPU"
  },
  "cells": [
    {
      "cell_type": "markdown",
      "metadata": {
        "id": "view-in-github",
        "colab_type": "text"
      },
      "source": [
        "<a href=\"https://colab.research.google.com/github/arjunparmar/VIRTUON/blob/main/Rupanshu/Texturing_Module.ipynb\" target=\"_parent\"><img src=\"https://colab.research.google.com/assets/colab-badge.svg\" alt=\"Open In Colab\"/></a>"
      ]
    },
    {
      "cell_type": "code",
      "metadata": {
        "id": "WaGqT8GBdt8k"
      },
      "source": [
        "import numpy as np\r\n",
        "import tensorflow as tf\r\n",
        "import matplotlib as plt\r\n",
        "from tensorflow import keras\r\n",
        "from tensorflow.keras.layers import Conv2D, concatenate, Dropout,MaxPool2D, MaxPooling2D, Conv2DTranspose, Activation, BatchNormalization,UpSampling2D, Add\r\n"
      ],
      "execution_count": 43,
      "outputs": []
    },
    {
      "cell_type": "code",
      "metadata": {
        "id": "bZ24weHMchkQ"
      },
      "source": [
        "a  = np.random.randn(1,16,16,18)"
      ],
      "execution_count": 44,
      "outputs": []
    },
    {
      "cell_type": "code",
      "metadata": {
        "id": "vMDaVqh1dSqX"
      },
      "source": [
        "b =  tf.keras.layers.UpSampling2D(size=(8, 8), interpolation=\"nearest\")(a)"
      ],
      "execution_count": 45,
      "outputs": []
    },
    {
      "cell_type": "code",
      "metadata": {
        "id": "tD6rUntReDon",
        "colab": {
          "base_uri": "https://localhost:8080/"
        },
        "outputId": "6e487b17-79e4-4e80-c18b-3c9a6b2b26cf"
      },
      "source": [
        "b.shape"
      ],
      "execution_count": 46,
      "outputs": [
        {
          "output_type": "execute_result",
          "data": {
            "text/plain": [
              "TensorShape([1, 128, 128, 18])"
            ]
          },
          "metadata": {
            "tags": []
          },
          "execution_count": 46
        }
      ]
    },
    {
      "cell_type": "code",
      "metadata": {
        "id": "5wQy4BQhengp"
      },
      "source": [
        "c =np.random.randn(1,128,128,18)"
      ],
      "execution_count": 47,
      "outputs": []
    },
    {
      "cell_type": "code",
      "metadata": {
        "id": "oLCjtLvieiQc"
      },
      "source": [
        "d = tf.keras.layers.concatenate([b,c])"
      ],
      "execution_count": 48,
      "outputs": []
    },
    {
      "cell_type": "code",
      "metadata": {
        "id": "NftMErt_fCGO",
        "colab": {
          "base_uri": "https://localhost:8080/"
        },
        "outputId": "f912cbe8-2c3b-4f60-a159-6bf84e97f5fa"
      },
      "source": [
        "d.shape"
      ],
      "execution_count": 49,
      "outputs": [
        {
          "output_type": "execute_result",
          "data": {
            "text/plain": [
              "TensorShape([1, 128, 128, 36])"
            ]
          },
          "metadata": {
            "tags": []
          },
          "execution_count": 49
        }
      ]
    },
    {
      "cell_type": "code",
      "metadata": {
        "id": "EaVTbA9AocFz"
      },
      "source": [
        "def conv_2d_block(x,n_filters,k_size,batchnorm=False):\r\n",
        "  ''' add two Conv layers with relu activation '''\r\n",
        "  #first layer\r\n",
        "  x = Conv2D(filters=n_filters,kernel_size=(k_size,k_size) , \r\n",
        "             padding='same', kernel_initializer = 'he_normal')(x)\r\n",
        "  if batchnorm:\r\n",
        "    x = BatchNormalization()(x)\r\n",
        "  x = Activation('relu')(x)\r\n",
        "  # 2nd layer\r\n",
        "  x = Conv2D(filters=n_filters,kernel_size=(k_size,k_size) , \r\n",
        "              padding='same', kernel_initializer = 'he_normal')(x)\r\n",
        "  if batchnorm:\r\n",
        "      x = BatchNormalization()(x)\r\n",
        "  x = Activation('relu')(x)\r\n",
        "  \r\n",
        "  x = Conv2D(filters=n_filters,kernel_size=(k_size,k_size) , \r\n",
        "              padding='same', kernel_initializer = 'he_normal')(x)\r\n",
        "  if batchnorm:\r\n",
        "      x = BatchNormalization()(x)\r\n",
        "  x = Activation('relu')(x)\r\n",
        "\r\n",
        "  return x\r\n",
        "\r\n",
        "def u_net(input,n_filters=16,conv_k_size=3,pool_size=2,batchnorm=True,dropout=.2):\r\n",
        "\r\n",
        "  c1 = conv_2d_block(input,n_filters * 1 , conv_k_size,batchnorm)\r\n",
        "  p1 = MaxPool2D(pool_size=(pool_size,pool_size))(c1)\r\n",
        "  p1 = Dropout(dropout)(p1)\r\n",
        "\r\n",
        "  c2 = conv_2d_block(p1,n_filters * 2 , conv_k_size,batchnorm)\r\n",
        "  p2 = MaxPool2D(pool_size=(pool_size,pool_size))(c2)\r\n",
        "  p2 = Dropout(dropout)(p2)\r\n",
        "\r\n",
        "  c3 = conv_2d_block(p2,n_filters * 4 , conv_k_size,batchnorm)\r\n",
        "  p3 = MaxPool2D(pool_size=(pool_size,pool_size))(c3)\r\n",
        "  p3 = Dropout(dropout)(p3)\r\n",
        " \r\n",
        "  c4 = conv_2d_block(p3,n_filters * 8 , conv_k_size,batchnorm)\r\n",
        "  p4 = MaxPool2D(pool_size=(pool_size,pool_size))(c4)\r\n",
        "  p4 = Dropout(dropout)(p4)\r\n",
        "\r\n",
        "  c5 = conv_2d_block(p4,n_filters * 16 , conv_k_size,batchnorm)\r\n",
        "\r\n",
        "   #Up sampling\r\n",
        "  u6 = Conv2DTranspose(filters=n_filters * 8 ,kernel_size=(3,3), strides=(2,2),padding='same')(c5)\r\n",
        "  u6 = concatenate([u6,c4])\r\n",
        "  u6 = Dropout(dropout)(u6)\r\n",
        "  c7 = conv_2d_block(u6,n_filters * 8 , conv_k_size,batchnorm)\r\n",
        "\r\n",
        "  u8 = Conv2DTranspose(filters=n_filters * 4 ,kernel_size=(3,3), strides=(2,2),padding='same')(c7)\r\n",
        "  u8 = concatenate([u8,c3])\r\n",
        "  u8 = Dropout(dropout)(u8)\r\n",
        "  c9 = conv_2d_block(u8,n_filters * 4 , conv_k_size,batchnorm)\r\n",
        "\r\n",
        "  u10 = Conv2DTranspose(filters=n_filters * 2,kernel_size=(3,3) , strides=(2,2),padding='same')(c9)\r\n",
        "  u10 = concatenate([u10,c2])\r\n",
        "  u10 = Dropout(dropout)(u10)\r\n",
        "  c11 = conv_2d_block(u10,n_filters * 2 , conv_k_size,batchnorm)\r\n",
        "\r\n",
        "  u12 = Conv2DTranspose(filters=n_filters * 1 ,kernel_size=(3,3), strides=(2,2),padding='same')(c11)\r\n",
        "  u12 = concatenate([u12,c1])\r\n",
        "  u12 = Dropout(dropout)(u12)\r\n",
        "  c13 = conv_2d_block(u12,n_filters * 1 , conv_k_size,batchnorm)\r\n",
        "\r\n",
        "  output = Conv2D(filters=3 , kernel_size=(1,1),activation='softmax')(c13) # output layer\r\n",
        " # model = Model(inputs=input,outputs=output,name='classifier')\r\n",
        "  return output"
      ],
      "execution_count": 50,
      "outputs": []
    },
    {
      "cell_type": "code",
      "metadata": {
        "colab": {
          "base_uri": "https://localhost:8080/"
        },
        "id": "PHpMsGkbocIv",
        "outputId": "59980d69-0429-4774-a24f-2cf3cc517059"
      },
      "source": [
        "u_net(d).shape"
      ],
      "execution_count": 51,
      "outputs": [
        {
          "output_type": "execute_result",
          "data": {
            "text/plain": [
              "TensorShape([1, 128, 128, 3])"
            ]
          },
          "metadata": {
            "tags": []
          },
          "execution_count": 51
        }
      ]
    },
    {
      "cell_type": "code",
      "metadata": {
        "id": "IYQ4rWmiocLi"
      },
      "source": [
        ""
      ],
      "execution_count": 51,
      "outputs": []
    },
    {
      "cell_type": "code",
      "metadata": {
        "id": "Go6k0iwxocON"
      },
      "source": [
        ""
      ],
      "execution_count": 51,
      "outputs": []
    }
  ]
}