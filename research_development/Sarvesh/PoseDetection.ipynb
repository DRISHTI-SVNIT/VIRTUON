{
  "nbformat": 4,
  "nbformat_minor": 0,
  "metadata": {
    "colab": {
      "name": "PoseDetection.ipynb",
      "provenance": [],
      "collapsed_sections": []
    },
    "kernelspec": {
      "name": "python3",
      "display_name": "Python 3"
    }
  },
  "cells": [
    {
      "cell_type": "code",
      "metadata": {
        "id": "4g7BQQG8FFWR"
      },
      "source": [
        "!cp -r drive/Shareddrives/Virtuon/Machine\\ Learning\\ Project/Pre_Trained_Model/* /content"
      ],
      "execution_count": null,
      "outputs": []
    },
    {
      "cell_type": "code",
      "metadata": {
        "id": "yKoM-Frh-W9A"
      },
      "source": [
        "\r\n",
        "import numpy as np\r\n",
        "import pandas as pd\r\n",
        "import tensorflow as tf\r\n",
        "import cv2 as cv\r\n",
        "from PIL import Image\r\n",
        "from tensorflow.keras.preprocessing.image import load_img, img_to_array\r\n",
        "import random\r\n",
        "\r\n",
        "from tensorflow.keras.utils import plot_model\r\n",
        "\r\n",
        "from tensorflow.keras.layers import Conv2D, Conv2DTranspose, Input\r\n",
        "from tensorflow.keras.models import Sequential, Model\r\n",
        "\r\n",
        "import matplotlib.pyplot as plt\r\n",
        "%matplotlib inline\r\n",
        "\r\n",
        "from tf_bodypix.api import download_model, load_model, BodyPixModelPaths"
      ],
      "execution_count": null,
      "outputs": []
    },
    {
      "cell_type": "code",
      "metadata": {
        "colab": {
          "base_uri": "https://localhost:8080/"
        },
        "id": "ZCOpiFEjFH4y",
        "outputId": "7b86e7ae-d79d-4d5c-a9c3-8f114da02f6a"
      },
      "source": [
        "!pip install tf-bodypix[all]"
      ],
      "execution_count": null,
      "outputs": [
        {
          "output_type": "stream",
          "text": [
            "Requirement already satisfied: tf-bodypix[all] in /usr/local/lib/python3.6/dist-packages (0.3.4)\n",
            "Requirement already satisfied: tfjs-graph-converter==1.4.2; extra == \"all\" in /usr/local/lib/python3.6/dist-packages (from tf-bodypix[all]) (1.4.2)\n",
            "Requirement already satisfied: tensorflow==2.4.0; extra == \"all\" in /usr/local/lib/python3.6/dist-packages (from tf-bodypix[all]) (2.4.0)\n",
            "Requirement already satisfied: opencv-python==4.4.0.46; extra == \"all\" in /usr/local/lib/python3.6/dist-packages (from tf-bodypix[all]) (4.4.0.46)\n",
            "Requirement already satisfied: pyfakewebcam==0.1.0; extra == \"all\" in /usr/local/lib/python3.6/dist-packages (from tf-bodypix[all]) (0.1.0)\n",
            "Requirement already satisfied: Pillow==8.0.1; extra == \"all\" in /usr/local/lib/python3.6/dist-packages (from tf-bodypix[all]) (8.0.1)\n",
            "Requirement already satisfied: tensorflowjs>=1.5.2 in /usr/local/lib/python3.6/dist-packages (from tfjs-graph-converter==1.4.2; extra == \"all\"->tf-bodypix[all]) (2.8.2)\n",
            "Requirement already satisfied: h5py~=2.10.0 in /usr/local/lib/python3.6/dist-packages (from tensorflow==2.4.0; extra == \"all\"->tf-bodypix[all]) (2.10.0)\n",
            "Requirement already satisfied: protobuf>=3.9.2 in /usr/local/lib/python3.6/dist-packages (from tensorflow==2.4.0; extra == \"all\"->tf-bodypix[all]) (3.12.4)\n",
            "Requirement already satisfied: opt-einsum~=3.3.0 in /usr/local/lib/python3.6/dist-packages (from tensorflow==2.4.0; extra == \"all\"->tf-bodypix[all]) (3.3.0)\n",
            "Requirement already satisfied: tensorboard~=2.4 in /usr/local/lib/python3.6/dist-packages (from tensorflow==2.4.0; extra == \"all\"->tf-bodypix[all]) (2.4.0)\n",
            "Requirement already satisfied: gast==0.3.3 in /usr/local/lib/python3.6/dist-packages (from tensorflow==2.4.0; extra == \"all\"->tf-bodypix[all]) (0.3.3)\n",
            "Requirement already satisfied: numpy~=1.19.2 in /usr/local/lib/python3.6/dist-packages (from tensorflow==2.4.0; extra == \"all\"->tf-bodypix[all]) (1.19.4)\n",
            "Requirement already satisfied: wrapt~=1.12.1 in /usr/local/lib/python3.6/dist-packages (from tensorflow==2.4.0; extra == \"all\"->tf-bodypix[all]) (1.12.1)\n",
            "Requirement already satisfied: google-pasta~=0.2 in /usr/local/lib/python3.6/dist-packages (from tensorflow==2.4.0; extra == \"all\"->tf-bodypix[all]) (0.2.0)\n",
            "Requirement already satisfied: grpcio~=1.32.0 in /usr/local/lib/python3.6/dist-packages (from tensorflow==2.4.0; extra == \"all\"->tf-bodypix[all]) (1.32.0)\n",
            "Requirement already satisfied: astunparse~=1.6.3 in /usr/local/lib/python3.6/dist-packages (from tensorflow==2.4.0; extra == \"all\"->tf-bodypix[all]) (1.6.3)\n",
            "Requirement already satisfied: flatbuffers~=1.12.0 in /usr/local/lib/python3.6/dist-packages (from tensorflow==2.4.0; extra == \"all\"->tf-bodypix[all]) (1.12)\n",
            "Requirement already satisfied: typing-extensions~=3.7.4 in /usr/local/lib/python3.6/dist-packages (from tensorflow==2.4.0; extra == \"all\"->tf-bodypix[all]) (3.7.4.3)\n",
            "Requirement already satisfied: wheel~=0.35 in /usr/local/lib/python3.6/dist-packages (from tensorflow==2.4.0; extra == \"all\"->tf-bodypix[all]) (0.36.2)\n",
            "Requirement already satisfied: absl-py~=0.10 in /usr/local/lib/python3.6/dist-packages (from tensorflow==2.4.0; extra == \"all\"->tf-bodypix[all]) (0.10.0)\n",
            "Requirement already satisfied: tensorflow-estimator<2.5.0,>=2.4.0rc0 in /usr/local/lib/python3.6/dist-packages (from tensorflow==2.4.0; extra == \"all\"->tf-bodypix[all]) (2.4.0)\n",
            "Requirement already satisfied: six~=1.15.0 in /usr/local/lib/python3.6/dist-packages (from tensorflow==2.4.0; extra == \"all\"->tf-bodypix[all]) (1.15.0)\n",
            "Requirement already satisfied: termcolor~=1.1.0 in /usr/local/lib/python3.6/dist-packages (from tensorflow==2.4.0; extra == \"all\"->tf-bodypix[all]) (1.1.0)\n",
            "Requirement already satisfied: keras-preprocessing~=1.1.2 in /usr/local/lib/python3.6/dist-packages (from tensorflow==2.4.0; extra == \"all\"->tf-bodypix[all]) (1.1.2)\n",
            "Requirement already satisfied: tensorflow-hub<0.10,>=0.7.0 in /usr/local/lib/python3.6/dist-packages (from tensorflowjs>=1.5.2->tfjs-graph-converter==1.4.2; extra == \"all\"->tf-bodypix[all]) (0.9.0)\n",
            "Requirement already satisfied: setuptools in /usr/local/lib/python3.6/dist-packages (from protobuf>=3.9.2->tensorflow==2.4.0; extra == \"all\"->tf-bodypix[all]) (51.0.0)\n",
            "Requirement already satisfied: werkzeug>=0.11.15 in /usr/local/lib/python3.6/dist-packages (from tensorboard~=2.4->tensorflow==2.4.0; extra == \"all\"->tf-bodypix[all]) (1.0.1)\n",
            "Requirement already satisfied: requests<3,>=2.21.0 in /usr/local/lib/python3.6/dist-packages (from tensorboard~=2.4->tensorflow==2.4.0; extra == \"all\"->tf-bodypix[all]) (2.23.0)\n",
            "Requirement already satisfied: tensorboard-plugin-wit>=1.6.0 in /usr/local/lib/python3.6/dist-packages (from tensorboard~=2.4->tensorflow==2.4.0; extra == \"all\"->tf-bodypix[all]) (1.7.0)\n",
            "Requirement already satisfied: markdown>=2.6.8 in /usr/local/lib/python3.6/dist-packages (from tensorboard~=2.4->tensorflow==2.4.0; extra == \"all\"->tf-bodypix[all]) (3.3.3)\n",
            "Requirement already satisfied: google-auth<2,>=1.6.3 in /usr/local/lib/python3.6/dist-packages (from tensorboard~=2.4->tensorflow==2.4.0; extra == \"all\"->tf-bodypix[all]) (1.17.2)\n",
            "Requirement already satisfied: google-auth-oauthlib<0.5,>=0.4.1 in /usr/local/lib/python3.6/dist-packages (from tensorboard~=2.4->tensorflow==2.4.0; extra == \"all\"->tf-bodypix[all]) (0.4.2)\n",
            "Requirement already satisfied: certifi>=2017.4.17 in /usr/local/lib/python3.6/dist-packages (from requests<3,>=2.21.0->tensorboard~=2.4->tensorflow==2.4.0; extra == \"all\"->tf-bodypix[all]) (2020.12.5)\n",
            "Requirement already satisfied: urllib3!=1.25.0,!=1.25.1,<1.26,>=1.21.1 in /usr/local/lib/python3.6/dist-packages (from requests<3,>=2.21.0->tensorboard~=2.4->tensorflow==2.4.0; extra == \"all\"->tf-bodypix[all]) (1.24.3)\n",
            "Requirement already satisfied: chardet<4,>=3.0.2 in /usr/local/lib/python3.6/dist-packages (from requests<3,>=2.21.0->tensorboard~=2.4->tensorflow==2.4.0; extra == \"all\"->tf-bodypix[all]) (3.0.4)\n",
            "Requirement already satisfied: idna<3,>=2.5 in /usr/local/lib/python3.6/dist-packages (from requests<3,>=2.21.0->tensorboard~=2.4->tensorflow==2.4.0; extra == \"all\"->tf-bodypix[all]) (2.10)\n",
            "Requirement already satisfied: importlib-metadata; python_version < \"3.8\" in /usr/local/lib/python3.6/dist-packages (from markdown>=2.6.8->tensorboard~=2.4->tensorflow==2.4.0; extra == \"all\"->tf-bodypix[all]) (3.3.0)\n",
            "Requirement already satisfied: cachetools<5.0,>=2.0.0 in /usr/local/lib/python3.6/dist-packages (from google-auth<2,>=1.6.3->tensorboard~=2.4->tensorflow==2.4.0; extra == \"all\"->tf-bodypix[all]) (4.2.0)\n",
            "Requirement already satisfied: pyasn1-modules>=0.2.1 in /usr/local/lib/python3.6/dist-packages (from google-auth<2,>=1.6.3->tensorboard~=2.4->tensorflow==2.4.0; extra == \"all\"->tf-bodypix[all]) (0.2.8)\n",
            "Requirement already satisfied: rsa<5,>=3.1.4; python_version >= \"3\" in /usr/local/lib/python3.6/dist-packages (from google-auth<2,>=1.6.3->tensorboard~=2.4->tensorflow==2.4.0; extra == \"all\"->tf-bodypix[all]) (4.6)\n",
            "Requirement already satisfied: requests-oauthlib>=0.7.0 in /usr/local/lib/python3.6/dist-packages (from google-auth-oauthlib<0.5,>=0.4.1->tensorboard~=2.4->tensorflow==2.4.0; extra == \"all\"->tf-bodypix[all]) (1.3.0)\n",
            "Requirement already satisfied: zipp>=0.5 in /usr/local/lib/python3.6/dist-packages (from importlib-metadata; python_version < \"3.8\"->markdown>=2.6.8->tensorboard~=2.4->tensorflow==2.4.0; extra == \"all\"->tf-bodypix[all]) (3.4.0)\n",
            "Requirement already satisfied: pyasn1<0.5.0,>=0.4.6 in /usr/local/lib/python3.6/dist-packages (from pyasn1-modules>=0.2.1->google-auth<2,>=1.6.3->tensorboard~=2.4->tensorflow==2.4.0; extra == \"all\"->tf-bodypix[all]) (0.4.8)\n",
            "Requirement already satisfied: oauthlib>=3.0.0 in /usr/local/lib/python3.6/dist-packages (from requests-oauthlib>=0.7.0->google-auth-oauthlib<0.5,>=0.4.1->tensorboard~=2.4->tensorflow==2.4.0; extra == \"all\"->tf-bodypix[all]) (3.1.0)\n"
          ],
          "name": "stdout"
        }
      ]
    },
    {
      "cell_type": "code",
      "metadata": {
        "id": "7y0CSAjbFU-x"
      },
      "source": [
        " "
      ],
      "execution_count": null,
      "outputs": []
    },
    {
      "cell_type": "code",
      "metadata": {
        "id": "v6kpHrJyJRkE"
      },
      "source": [
        "file = '/content/drive/Shareddrives/Virtuon/download_1.jpg'\r\n",
        "file1 = '/content/drive/Shareddrives/Virtuon/download_2.jpg'\r\n",
        "file2 = '/content/drive/Shareddrives/Virtuon/download_3.jpg'\r\n",
        "file3 = '/content/drive/MyDrive/WhatsApp Image 2021-01-02 at 3.35.47 PM.jpeg'\r\n",
        "file4=  '/content/drive/Shareddrives/Virtuon/Front_Pose.jpg'"
      ],
      "execution_count": null,
      "outputs": []
    },
    {
      "cell_type": "code",
      "metadata": {
        "colab": {
          "base_uri": "https://localhost:8080/"
        },
        "id": "lw2SmNhMLex7",
        "outputId": "e81c3e4a-386c-4bd5-89d7-aa5971f4970b"
      },
      "source": [
        "from google.colab import drive\n",
        "drive.mount('/content/drive')"
      ],
      "execution_count": null,
      "outputs": [
        {
          "output_type": "stream",
          "text": [
            "Drive already mounted at /content/drive; to attempt to forcibly remount, call drive.mount(\"/content/drive\", force_remount=True).\n"
          ],
          "name": "stdout"
        }
      ]
    },
    {
      "cell_type": "code",
      "metadata": {
        "id": "4imvuEsfK34D"
      },
      "source": [
        "bodypix_model = load_model(download_model(BodyPixModelPaths.MOBILENET_FLOAT_50_STRIDE_16))"
      ],
      "execution_count": null,
      "outputs": []
    },
    {
      "cell_type": "code",
      "metadata": {
        "id": "zPSyQTyOLVAr"
      },
      "source": [
        "image = tf.keras.preprocessing.image.load_img(file3)\r\n",
        "image.show()"
      ],
      "execution_count": null,
      "outputs": []
    },
    {
      "cell_type": "code",
      "metadata": {
        "id": "V6mvpuIRe3nR"
      },
      "source": [
        "# image converted to image array\r\n",
        "image_array = tf.keras.preprocessing.image.img_to_array(image)\r\n",
        "# bodypix prediction\r\n",
        "result = bodypix_model.predict_single(image_array)"
      ],
      "execution_count": null,
      "outputs": []
    },
    {
      "cell_type": "code",
      "metadata": {
        "id": "xO0_LE6je9W4"
      },
      "source": [
        "mask = result.get_mask(threshold=0.75)\r\n",
        "tf.keras.preprocessing.image.save_img('bodypix-mask.jpg',mask)"
      ],
      "execution_count": null,
      "outputs": []
    },
    {
      "cell_type": "code",
      "metadata": {
        "id": "sXHJ27zufIaX"
      },
      "source": [
        "colored_mask = result.get_colored_part_mask(mask)\r\n",
        "tf.keras.preprocessing.image.save_img('bodypix-colored-mask.jpg',colored_mask)"
      ],
      "execution_count": null,
      "outputs": []
    },
    {
      "cell_type": "code",
      "metadata": {
        "colab": {
          "base_uri": "https://localhost:8080/",
          "height": 269
        },
        "id": "YrqUtnf5fM1o",
        "outputId": "683402fa-db2b-4469-f888-0ed702c30db9"
      },
      "source": [
        "plt.imshow(colored_mask)\r\n",
        "plt.show()\r\n",
        "plt.imsave('colored_mask.jpg', colored_mask.astype(np.uint8))"
      ],
      "execution_count": null,
      "outputs": [
        {
          "output_type": "display_data",
          "data": {
            "image/png": "[encoded data removed]",
            "text/plain": [
              "<Figure size 432x288 with 1 Axes>"
            ]
          },
          "metadata": {
            "tags": [],
            "needs_background": "light"
          }
        }
      ]
    },
    {
      "cell_type": "markdown",
      "metadata": {
        "id": "hh4N_rtljccS"
      },
      "source": [
        "# New section"
      ]
    },
    {
      "cell_type": "code",
      "metadata": {
        "id": "AN5sWenwkAjb"
      },
      "source": [
        "!unzip /content/drive/Shareddrives/Virtuon/Machine\\ Learning\\ Project/LIP_Dataset/LIP_Dataset.zip -d /content"
      ],
      "execution_count": null,
      "outputs": []
    },
    {
      "cell_type": "code",
      "metadata": {
        "id": "Ryg3S5cafPcg"
      },
      "source": [
        ""
      ],
      "execution_count": null,
      "outputs": []
    }
  ]
}