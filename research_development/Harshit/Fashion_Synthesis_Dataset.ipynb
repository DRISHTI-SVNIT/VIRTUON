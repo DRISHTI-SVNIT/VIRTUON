{
  "nbformat": 4,
  "nbformat_minor": 0,
  "metadata": {
    "kernelspec": {
      "display_name": "Python 3",
      "language": "python",
      "name": "python3"
    },
    "language_info": {
      "codemirror_mode": {
        "name": "ipython",
        "version": 3
      },
      "file_extension": ".py",
      "mimetype": "text/x-python",
      "name": "python",
      "nbconvert_exporter": "python",
      "pygments_lexer": "ipython3",
      "version": "3.6.12"
    },
    "colab": {
      "name": "Copy of Ek Problem Home Version.ipynb",
      "provenance": [],
      "collapsed_sections": [],
      "include_colab_link": true
    },
    "accelerator": "GPU"
  },
  "cells": [
    {
      "cell_type": "markdown",
      "metadata": {
        "id": "view-in-github",
        "colab_type": "text"
      },
      "source": [
        "<a href=\"https://colab.research.google.com/github/arjunparmar/VIRTUON/blob/main/Harshit/Fashion_Synthesis_Dataset.ipynb\" target=\"_parent\"><img src=\"https://colab.research.google.com/assets/colab-badge.svg\" alt=\"Open In Colab\"/></a>"
      ]
    },
    {
      "cell_type": "code",
      "metadata": {
        "colab": {
          "base_uri": "https://localhost:8080/"
        },
        "id": "ZFMPDdA7iafX",
        "outputId": "8371063c-5c2d-4291-ee27-42ee682bb80e"
      },
      "source": [
        "from google.colab import drive\n",
        "drive.mount('/content/drive')"
      ],
      "execution_count": 1,
      "outputs": [
        {
          "output_type": "stream",
          "text": [
            "Mounted at /content/drive\n"
          ],
          "name": "stdout"
        }
      ]
    },
    {
      "cell_type": "code",
      "metadata": {
        "id": "ZewsyygQTjd6"
      },
      "source": [
        "!cp /drive/Shareddrives/Virtuon/Machine Learning Project/something.h5 something.h5"
      ],
      "execution_count": 2,
      "outputs": []
    },
    {
      "cell_type": "code",
      "metadata": {
        "id": "ynZRksKlhb4Q"
      },
      "source": [
        "import numpy as np\n",
        "import pandas as pd\n",
        "import matplotlib.pyplot as plt\n",
        "import tqdm\n",
        "import h5py\n",
        "import time\n",
        "import scipy.io\n",
        "%matplotlib inline\n",
        "\n",
        "import tensorflow as tf\n",
        "from tensorflow import keras\n",
        "from tensorflow.keras.preprocessing.image import load_img,img_to_array\n",
        "from tensorflow.keras import Sequential, Model\n",
        "from tensorflow.keras.layers import Conv2D, Flatten, Dense, Input, Conv2DTranspose,MaxPool2D\n",
        "from tensorflow.keras.layers import concatenate, Activation, MaxPooling2D, Dropout, BatchNormalization\n",
        "from tensorflow.keras.callbacks import EarlyStopping, ModelCheckpoint, ReduceLROnPlateau\n",
        "\n",
        "from tensorflow.keras.optimizers import Adam\n",
        "from tensorflow.keras.losses import binary_crossentropy\n",
        "from tensorflow.keras.utils import Sequence,to_categorical\n",
        "\n",
        "\n",
        "from tensorflow.keras.metrics import MeanIoU\n",
        "import tensorflow.keras.backend as K"
      ],
      "execution_count": 3,
      "outputs": []
    },
    {
      "cell_type": "code",
      "metadata": {
        "id": "rkv9WOZchb4S"
      },
      "source": [
        "# tf.config.list_physical_devices('GPU')"
      ],
      "execution_count": 4,
      "outputs": []
    },
    {
      "cell_type": "code",
      "metadata": {
        "id": "NX4xADLBhb4S"
      },
      "source": [
        "dataset = h5py.File('/content/drive/Shareddrives/Virtuon/Machine Learning Project/G2.h5', 'r')"
      ],
      "execution_count": 5,
      "outputs": []
    },
    {
      "cell_type": "code",
      "metadata": {
        "id": "gYNtQiq6Sc-g"
      },
      "source": [
        "list(dataset)"
      ],
      "execution_count": null,
      "outputs": []
    },
    {
      "cell_type": "code",
      "metadata": {
        "id": "koUO_3ZSSgkt"
      },
      "source": [
        "dataset['b_']"
      ],
      "execution_count": null,
      "outputs": []
    },
    {
      "cell_type": "code",
      "metadata": {
        "id": "3BibPjwHSlLa"
      },
      "source": [
        "dataset['ih']"
      ],
      "execution_count": null,
      "outputs": []
    },
    {
      "cell_type": "code",
      "metadata": {
        "id": "OCxhpLvSSwEV"
      },
      "source": [
        "dataset['ih_mean']"
      ],
      "execution_count": null,
      "outputs": []
    },
    {
      "cell_type": "markdown",
      "metadata": {
        "id": "SFo9CRI9S0-c"
      },
      "source": [
        "If U need to explore this dataset more read https://www.christopherlovell.co.uk/blog/2016/04/27/h5py-intro.html"
      ]
    },
    {
      "cell_type": "markdown",
      "metadata": {
        "id": "o28zzUGiYCXk"
      },
      "source": [
        "First Modify Images by your own and the go down so that you will be clear of what I have done in dataset"
      ]
    },
    {
      "cell_type": "code",
      "metadata": {
        "colab": {
          "base_uri": "https://localhost:8080/",
          "height": 339
        },
        "id": "sZA6YHXSPphw",
        "outputId": "731a4edc-041b-4f40-89a6-d676df82daa4"
      },
      "source": [
        "test_index = 1000\r\n",
        "fig, axes = plt.subplots(1,2, figsize = [10,50])\r\n",
        "axes[0].imshow(dataset['b_'][test_index].T.reshape(128,128))\r\n",
        "axes[1].imshow(dataset['ih'][test_index].T.reshape(128,128,3))"
      ],
      "execution_count": 6,
      "outputs": [
        {
          "output_type": "stream",
          "text": [
            "Clipping input data to the valid range for imshow with RGB data ([0..1] for floats or [0..255] for integers).\n"
          ],
          "name": "stderr"
        },
        {
          "output_type": "execute_result",
          "data": {
            "text/plain": [
              "<matplotlib.image.AxesImage at 0x7fa145d757b8>"
            ]
          },
          "metadata": {
            "tags": []
          },
          "execution_count": 6
        },
        {
          "output_type": "display_data",
          "data": {
            "image/png": "[encoded data removed]",
            "text/plain": [
              "<Figure size 720x3600 with 2 Axes>"
            ]
          },
          "metadata": {
            "tags": [],
            "needs_background": "light"
          }
        }
      ]
    },
    {
      "cell_type": "code",
      "metadata": {
        "id": "9kHp-CDdhb4S"
      },
      "source": [
        "def preprocess(image, label):\n",
        "    image = tf.transpose(image)\n",
        "    label = tf.transpose(label)\n",
        "    label = tf.reshape(label, [128,128])\n",
        "    image = tf.image.convert_image_dtype(image, dtype = tf.uint8)\n",
        "    label = tf.image.convert_image_dtype(label, dtype = tf.uint8)\n",
        "    label = tf.one_hot(label, depth = 7, dtype =  tf.uint8)\n",
        "#     print(label)\n",
        "    return image, label"
      ],
      "execution_count": null,
      "outputs": []
    },
    {
      "cell_type": "code",
      "metadata": {
        "id": "Oc8jnQfHhb4T"
      },
      "source": [
        "train = tf.data.Dataset.from_tensor_slices((dataset['ih'][50000:60000], dataset['b_'][50000:60000]))\n",
        "train = train.map(preprocess, num_parallel_calls = 4)\n",
        "train = train.shuffle(10000)\n",
        "train = train.batch(64).repeat()\n",
        "train = train.prefetch(5)"
      ],
      "execution_count": null,
      "outputs": []
    },
    {
      "cell_type": "code",
      "metadata": {
        "id": "8svbHZIHeA_Y"
      },
      "source": [
        "valid = tf.data.Dataset.from_tensor_slices((dataset['ih'][69500:70000], dataset['b_'][69500:70000]))\r\n",
        "valid = valid.map(preprocess, num_parallel_calls = 4)\r\n",
        "valid = valid.shuffle(500)\r\n",
        "valid = valid.batch(32)"
      ],
      "execution_count": null,
      "outputs": []
    },
    {
      "cell_type": "code",
      "metadata": {
        "id": "yu3iJLTMhb4T"
      },
      "source": [
        "def conv_2d_block(x,n_filters,k_size,batchnorm=False):\n",
        "  ''' add two Conv layers with relu activation '''\n",
        "  #first layer\n",
        "  x = Conv2D(filters=n_filters,kernel_size=(k_size,k_size) , \n",
        "             padding='same', kernel_initializer = 'he_normal')(x)\n",
        "  if batchnorm:\n",
        "    x = BatchNormalization()(x)\n",
        "  x = Activation('relu')(x)\n",
        "  # 2nd layer\n",
        "  x = Conv2D(filters=n_filters,kernel_size=(k_size,k_size) , \n",
        "              padding='same', kernel_initializer = 'he_normal')(x)\n",
        "  if batchnorm:\n",
        "      x = BatchNormalization()(x)\n",
        "  x = Activation('relu')(x)\n",
        "  \n",
        "  x = Conv2D(filters=n_filters,kernel_size=(k_size,k_size) , \n",
        "              padding='same', kernel_initializer = 'he_normal')(x)\n",
        "  if batchnorm:\n",
        "      x = BatchNormalization()(x)\n",
        "  x = Activation('relu')(x)\n",
        "\n",
        "  return x\n",
        "\n",
        "def get_u_net(input,n_filters=16,conv_k_size=3,pool_size=2,batchnorm=True,dropout=.2):\n",
        "\n",
        "  c1 = conv_2d_block(input,n_filters * 1 , conv_k_size,batchnorm)\n",
        "  p1 = MaxPool2D(pool_size=(pool_size,pool_size))(c1)\n",
        "  p1 = Dropout(dropout)(p1)\n",
        "\n",
        "  c2 = conv_2d_block(p1,n_filters * 2 , conv_k_size,batchnorm)\n",
        "  p2 = MaxPool2D(pool_size=(pool_size,pool_size))(c2)\n",
        "  p2 = Dropout(dropout)(p2)\n",
        "\n",
        "  c3 = conv_2d_block(p2,n_filters * 4 , conv_k_size,batchnorm)\n",
        "  p3 = MaxPool2D(pool_size=(pool_size,pool_size))(c3)\n",
        "  p3 = Dropout(dropout)(p3)\n",
        " \n",
        "  c4 = conv_2d_block(p3,n_filters * 8 , conv_k_size,batchnorm)\n",
        "  p4 = MaxPool2D(pool_size=(pool_size,pool_size))(c4)\n",
        "  p4 = Dropout(dropout)(p4)\n",
        "\n",
        "  c5 = conv_2d_block(p4,n_filters * 16 , conv_k_size,batchnorm)\n",
        "\n",
        "   #Up sampling\n",
        "  u6 = Conv2DTranspose(filters=n_filters * 8 ,kernel_size=(3,3), strides=(2,2),padding='same')(c5)\n",
        "  u6 = concatenate([u6,c4])\n",
        "  u6 = Dropout(dropout)(u6)\n",
        "  c7 = conv_2d_block(u6,n_filters * 8 , conv_k_size,batchnorm)\n",
        "\n",
        "  u8 = Conv2DTranspose(filters=n_filters * 4 ,kernel_size=(3,3), strides=(2,2),padding='same')(c7)\n",
        "  u8 = concatenate([u8,c3])\n",
        "  u8 = Dropout(dropout)(u8)\n",
        "  c9 = conv_2d_block(u8,n_filters * 4 , conv_k_size,batchnorm)\n",
        "\n",
        "  u10 = Conv2DTranspose(filters=n_filters * 2,kernel_size=(3,3) , strides=(2,2),padding='same')(c9)\n",
        "  u10 = concatenate([u10,c2])\n",
        "  u10 = Dropout(dropout)(u10)\n",
        "  c11 = conv_2d_block(u10,n_filters * 2 , conv_k_size,batchnorm)\n",
        "\n",
        "  u12 = Conv2DTranspose(filters=n_filters * 1 ,kernel_size=(3,3), strides=(2,2),padding='same')(c11)\n",
        "  u12 = concatenate([u12,c1])\n",
        "  u12 = Dropout(dropout)(u12)\n",
        "  c13 = conv_2d_block(u12,n_filters * 1 , conv_k_size,batchnorm)\n",
        "\n",
        "  output = Conv2D(filters=7 , kernel_size=(1,1),activation='softmax')(c13) # output layer\n",
        "  model = Model(inputs=input,outputs=output,name='classifier')\n",
        "  return model "
      ],
      "execution_count": null,
      "outputs": []
    },
    {
      "cell_type": "code",
      "metadata": {
        "id": "vFEGzR5UnxPW"
      },
      "source": [
        "def DiceLoss(targets, inputs):    \r\n",
        "    smooth=1e-6\r\n",
        "    #flatten label and prediction tensors\r\n",
        "    inputs = K.flatten(inputs)\r\n",
        "    targets = K.flatten(targets)\r\n",
        "    BCE = K.binary_cross_entropy(inputs,targets, reduction='mean')\r\n",
        "    targets = tf.cast(targets, dtype = tf.float32)\r\n",
        "    inputs = tf.cast(inputs, dtype = tf.float32)\r\n",
        "    intersection = K.sum((targets *  inputs))\r\n",
        "    union = K.sum(targets) + K.sum(inputs) - intersection\r\n",
        "    dice_loss = 1 - ((intersection + smooth) /(union + smooth))\r\n",
        "    Dice_BCE = dice_loss + BCE\r\n",
        "    \r\n",
        "    return Dice_BCE"
      ],
      "execution_count": null,
      "outputs": []
    },
    {
      "cell_type": "code",
      "metadata": {
        "id": "fgVMUNL0FY7Q"
      },
      "source": [
        "ALPHA = 1\r\n",
        "BETA = 500\r\n",
        "GAMMA = 1\r\n",
        "\r\n",
        "def FocalTverskyLoss(targets, inputs, alpha=ALPHA, beta=BETA, gamma=GAMMA, smooth=1e-6):\r\n",
        "    \r\n",
        "        #flatten label and prediction tensors\r\n",
        "        inputs = K.flatten(inputs)\r\n",
        "        targets = K.flatten(targets)\r\n",
        "        inputs = tf.cast(inputs, dtype = tf.float32)\r\n",
        "        targets = tf.cast(targets, dtype = tf.float32)\r\n",
        "        #True Positives, False Positives & False Negatives\r\n",
        "        TP = K.sum((inputs * targets))\r\n",
        "        FP = K.sum(((1-targets) * inputs))\r\n",
        "        FN = K.sum((targets * (1-inputs)))\r\n",
        "               \r\n",
        "        Tversky = (TP + smooth) / (TP + alpha*FP + beta*FN + smooth)  \r\n",
        "        FocalTversky = K.pow((1 - Tversky), gamma)\r\n",
        "        \r\n",
        "        return FocalTversky"
      ],
      "execution_count": null,
      "outputs": []
    },
    {
      "cell_type": "code",
      "metadata": {
        "id": "EUEGKyqFhb4U"
      },
      "source": [
        "optimizer = Adam()\n",
        "loss      = FocalTverskyLoss\n",
        "metrics   = [MeanIoU(7), 'accuracy']\n",
        "\n",
        "# Compile our model\n",
        "# input = Input(shape=(128,128,3),name='img')\n",
        "# model = get_u_net(input,n_filters=64)\n",
        "# model.compile(optimizer=optimizer, loss=loss, metrics=metrics)"
      ],
      "execution_count": null,
      "outputs": []
    },
    {
      "cell_type": "code",
      "metadata": {
        "id": "p_MlPWmq5UHZ"
      },
      "source": [
        "# model.summary()"
      ],
      "execution_count": null,
      "outputs": []
    },
    {
      "cell_type": "code",
      "metadata": {
        "id": "DPSbGO5Rhb4U"
      },
      "source": [
        "callback = [\n",
        "    EarlyStopping(patience=10, verbose=1),\n",
        "    ReduceLROnPlateau(factor=0.1, patience=5, min_lr=1e-5, verbose=1)]"
      ],
      "execution_count": null,
      "outputs": []
    },
    {
      "cell_type": "code",
      "metadata": {
        "id": "xCDLAMs3VyAw"
      },
      "source": [
        "model = tf.keras.models.load_model('something.h5', compile = False)\r\n",
        "model.compile(optimizer=optimizer, loss=loss, metrics=metrics)"
      ],
      "execution_count": null,
      "outputs": []
    },
    {
      "cell_type": "code",
      "metadata": {
        "id": "UM9-_WJphb4U",
        "colab": {
          "base_uri": "https://localhost:8080/"
        },
        "outputId": "7eaa8313-a0d9-45ea-c8b8-fb3fc0b22655"
      },
      "source": [
        "results = model.fit(x=train,\n",
        "          epochs=25,\n",
        "           verbose=1,\n",
        "           callbacks=callback,\n",
        "                  use_multiprocessing=True,\n",
        "                    workers=6, steps_per_epoch = 157, validation_data = valid)"
      ],
      "execution_count": null,
      "outputs": [
        {
          "output_type": "stream",
          "text": [
            "Epoch 1/25\n",
            "157/157 [==============================] - 225s 1s/step - loss: 0.8913 - mean_io_u_1: 0.9305 - accuracy: 0.9837 - val_loss: 0.8829 - val_mean_io_u_1: 0.8695 - val_accuracy: 0.9845\n",
            "Epoch 2/25\n",
            "157/157 [==============================] - 219s 1s/step - loss: 0.8888 - mean_io_u_1: 0.9403 - accuracy: 0.9840 - val_loss: 0.8808 - val_mean_io_u_1: 0.8741 - val_accuracy: 0.9852\n",
            "Epoch 3/25\n",
            "157/157 [==============================] - 219s 1s/step - loss: 0.8884 - mean_io_u_1: 0.9355 - accuracy: 0.9841 - val_loss: 0.8783 - val_mean_io_u_1: 0.9427 - val_accuracy: 0.9854\n",
            "Epoch 4/25\n",
            "157/157 [==============================] - 220s 1s/step - loss: 0.8872 - mean_io_u_1: 0.9299 - accuracy: 0.9843 - val_loss: 0.8845 - val_mean_io_u_1: 0.9691 - val_accuracy: 0.9846\n",
            "Epoch 5/25\n",
            "157/157 [==============================] - 219s 1s/step - loss: 0.8858 - mean_io_u_1: 0.9435 - accuracy: 0.9845 - val_loss: 0.8765 - val_mean_io_u_1: 0.9149 - val_accuracy: 0.9856\n",
            "Epoch 6/25\n",
            "157/157 [==============================] - 219s 1s/step - loss: 0.8862 - mean_io_u_1: 0.9511 - accuracy: 0.9845 - val_loss: 0.8830 - val_mean_io_u_1: 0.9787 - val_accuracy: 0.9848\n",
            "Epoch 7/25\n",
            "157/157 [==============================] - 219s 1s/step - loss: 0.8846 - mean_io_u_1: 0.9542 - accuracy: 0.9847 - val_loss: 0.8741 - val_mean_io_u_1: 0.9717 - val_accuracy: 0.9861\n",
            "Epoch 8/25\n",
            "157/157 [==============================] - 219s 1s/step - loss: 0.8817 - mean_io_u_1: 0.9602 - accuracy: 0.9851 - val_loss: 0.8696 - val_mean_io_u_1: 0.9760 - val_accuracy: 0.9866\n",
            "Epoch 9/25\n",
            "157/157 [==============================] - 219s 1s/step - loss: 0.8800 - mean_io_u_1: 0.9626 - accuracy: 0.9853 - val_loss: 0.8647 - val_mean_io_u_1: 0.9389 - val_accuracy: 0.9868\n",
            "Epoch 10/25\n",
            "157/157 [==============================] - 219s 1s/step - loss: 0.8790 - mean_io_u_1: 0.9664 - accuracy: 0.9855 - val_loss: 0.8864 - val_mean_io_u_1: 0.9750 - val_accuracy: 0.9842\n",
            "Epoch 11/25\n",
            "157/157 [==============================] - 219s 1s/step - loss: 0.8799 - mean_io_u_1: 0.9647 - accuracy: 0.9854 - val_loss: 0.8825 - val_mean_io_u_1: 0.9174 - val_accuracy: 0.9850\n",
            "Epoch 12/25\n",
            "157/157 [==============================] - 219s 1s/step - loss: 0.8790 - mean_io_u_1: 0.9693 - accuracy: 0.9855 - val_loss: 0.8851 - val_mean_io_u_1: 0.9763 - val_accuracy: 0.9844\n",
            "Epoch 13/25\n",
            "157/157 [==============================] - 219s 1s/step - loss: 0.8788 - mean_io_u_1: 0.9713 - accuracy: 0.9855 - val_loss: 0.8715 - val_mean_io_u_1: 0.9779 - val_accuracy: 0.9863\n",
            "Epoch 14/25\n",
            "157/157 [==============================] - ETA: 0s - loss: 0.8780 - mean_io_u_1: 0.9729 - accuracy: 0.9857\n",
            "Epoch 00014: ReduceLROnPlateau reducing learning rate to 0.00010000000474974513.\n",
            "157/157 [==============================] - 219s 1s/step - loss: 0.8780 - mean_io_u_1: 0.9729 - accuracy: 0.9857 - val_loss: 0.8747 - val_mean_io_u_1: 0.9714 - val_accuracy: 0.9858\n",
            "Epoch 15/25\n",
            "157/157 [==============================] - 219s 1s/step - loss: 0.8664 - mean_io_u_1: 0.9759 - accuracy: 0.9870 - val_loss: 0.8581 - val_mean_io_u_1: 0.9801 - val_accuracy: 0.9875\n",
            "Epoch 16/25\n",
            "157/157 [==============================] - 219s 1s/step - loss: 0.8623 - mean_io_u_1: 0.9770 - accuracy: 0.9874 - val_loss: 0.8566 - val_mean_io_u_1: 0.9821 - val_accuracy: 0.9878\n",
            "Epoch 17/25\n",
            "157/157 [==============================] - 218s 1s/step - loss: 0.8603 - mean_io_u_1: 0.9768 - accuracy: 0.9877 - val_loss: 0.8577 - val_mean_io_u_1: 0.9815 - val_accuracy: 0.9877\n",
            "Epoch 18/25\n",
            "157/157 [==============================] - 219s 1s/step - loss: 0.8582 - mean_io_u_1: 0.9766 - accuracy: 0.9879 - val_loss: 0.8572 - val_mean_io_u_1: 0.9789 - val_accuracy: 0.9878\n",
            "Epoch 19/25\n",
            "157/157 [==============================] - 218s 1s/step - loss: 0.8571 - mean_io_u_1: 0.9760 - accuracy: 0.9880 - val_loss: 0.8549 - val_mean_io_u_1: 0.9793 - val_accuracy: 0.9879\n",
            "Epoch 20/25\n",
            "157/157 [==============================] - 219s 1s/step - loss: 0.8565 - mean_io_u_1: 0.9750 - accuracy: 0.9880 - val_loss: 0.8562 - val_mean_io_u_1: 0.9795 - val_accuracy: 0.9878\n",
            "Epoch 21/25\n",
            "157/157 [==============================] - 219s 1s/step - loss: 0.8555 - mean_io_u_1: 0.9753 - accuracy: 0.9881 - val_loss: 0.8585 - val_mean_io_u_1: 0.9787 - val_accuracy: 0.9876\n",
            "Epoch 22/25\n",
            "157/157 [==============================] - 219s 1s/step - loss: 0.8546 - mean_io_u_1: 0.9749 - accuracy: 0.9882 - val_loss: 0.8563 - val_mean_io_u_1: 0.9780 - val_accuracy: 0.9879\n",
            "Epoch 23/25\n",
            "157/157 [==============================] - 219s 1s/step - loss: 0.8535 - mean_io_u_1: 0.9774 - accuracy: 0.9883 - val_loss: 0.8510 - val_mean_io_u_1: 0.9809 - val_accuracy: 0.9882\n",
            "Epoch 24/25\n",
            "157/157 [==============================] - 219s 1s/step - loss: 0.8530 - mean_io_u_1: 0.9769 - accuracy: 0.9884 - val_loss: 0.8548 - val_mean_io_u_1: 0.9807 - val_accuracy: 0.9881\n",
            "Epoch 25/25\n",
            "157/157 [==============================] - 219s 1s/step - loss: 0.8525 - mean_io_u_1: 0.9763 - accuracy: 0.9884 - val_loss: 0.8540 - val_mean_io_u_1: 0.9806 - val_accuracy: 0.9881\n"
          ],
          "name": "stdout"
        }
      ]
    },
    {
      "cell_type": "code",
      "metadata": {
        "id": "lM5U-OT6dV7M"
      },
      "source": [
        ""
      ],
      "execution_count": null,
      "outputs": []
    },
    {
      "cell_type": "code",
      "metadata": {
        "id": "Is3IEckmQ0vx"
      },
      "source": [
        "model.save('something.h5')"
      ],
      "execution_count": null,
      "outputs": []
    },
    {
      "cell_type": "code",
      "metadata": {
        "id": "Go47bQ42RUSA"
      },
      "source": [
        "!cp something.h5 drive/MyDrive/Machine\\ Learning\\ Project/something.h5"
      ],
      "execution_count": null,
      "outputs": []
    },
    {
      "cell_type": "code",
      "metadata": {
        "id": "2Eg6fL3Ahb4U",
        "colab": {
          "base_uri": "https://localhost:8080/",
          "height": 339
        },
        "outputId": "0c413efd-e516-42ed-88fa-e257e8b5dca5"
      },
      "source": [
        "test_index = 45000\r\n",
        "fig, axes = plt.subplots(1,2, figsize = [10,50])\r\n",
        "axes[0].imshow(dataset['b_'][test_index].T.reshape(128,128))\r\n",
        "axes[1].imshow(dataset['ih'][test_index].T.reshape(128,128,3))"
      ],
      "execution_count": null,
      "outputs": [
        {
          "output_type": "stream",
          "text": [
            "Clipping input data to the valid range for imshow with RGB data ([0..1] for floats or [0..255] for integers).\n"
          ],
          "name": "stderr"
        },
        {
          "output_type": "execute_result",
          "data": {
            "text/plain": [
              "<matplotlib.image.AxesImage at 0x7fc8aa5e89e8>"
            ]
          },
          "metadata": {
            "tags": []
          },
          "execution_count": 25
        },
        {
          "output_type": "display_data",
          "data": {
            "image/png": "[encoded data removed]",
            "text/plain": [
              "<Figure size 720x3600 with 2 Axes>"
            ]
          },
          "metadata": {
            "tags": [],
            "needs_background": "light"
          }
        }
      ]
    },
    {
      "cell_type": "code",
      "metadata": {
        "id": "Ny7IgeDDtQ0j",
        "colab": {
          "base_uri": "https://localhost:8080/"
        },
        "outputId": "357e6367-49e3-4037-adc7-4ecbe76ae6bc"
      },
      "source": [
        "dataset['ih'][test_index:test_index + 1].shape"
      ],
      "execution_count": null,
      "outputs": [
        {
          "output_type": "execute_result",
          "data": {
            "text/plain": [
              "(1, 3, 128, 128)"
            ]
          },
          "metadata": {
            "tags": []
          },
          "execution_count": 26
        }
      ]
    },
    {
      "cell_type": "code",
      "metadata": {
        "id": "RvKn9KM-5rFn"
      },
      "source": [
        "predict_ds = tf.data.Dataset.from_tensor_slices(dataset['ih'][test_index:test_index + 1]).map(tf.transpose).batch(1)"
      ],
      "execution_count": null,
      "outputs": []
    },
    {
      "cell_type": "code",
      "metadata": {
        "id": "AeaPPl4u772P",
        "colab": {
          "base_uri": "https://localhost:8080/"
        },
        "outputId": "149ca24d-d917-4fb0-fc89-9eee34a80c4b"
      },
      "source": [
        "predict_ds.element_spec"
      ],
      "execution_count": null,
      "outputs": [
        {
          "output_type": "execute_result",
          "data": {
            "text/plain": [
              "TensorSpec(shape=(None, 128, 128, 3), dtype=tf.float32, name=None)"
            ]
          },
          "metadata": {
            "tags": []
          },
          "execution_count": 28
        }
      ]
    },
    {
      "cell_type": "code",
      "metadata": {
        "id": "cVmBqI_s64yX"
      },
      "source": [
        "result = model.predict(predict_ds)"
      ],
      "execution_count": null,
      "outputs": []
    },
    {
      "cell_type": "code",
      "metadata": {
        "id": "p2UDThdrbIsx"
      },
      "source": [
        "temp = tf.one_hot(dataset['b_'][test_index].T.reshape(128,128), depth = 7, dtype =  tf.uint8)\r\n",
        "temp_1 = tf.cast(result, dtype = tf.uint8)"
      ],
      "execution_count": null,
      "outputs": []
    },
    {
      "cell_type": "code",
      "metadata": {
        "id": "G5jBKL4cTuF5",
        "colab": {
          "base_uri": "https://localhost:8080/"
        },
        "outputId": "2d258039-557e-47a2-9c6e-5f90e774b148"
      },
      "source": [
        "index = 3\r\n",
        "np.unique(temp[:,:,index] == temp_1[0,:,:,index], return_counts=True)"
      ],
      "execution_count": null,
      "outputs": [
        {
          "output_type": "execute_result",
          "data": {
            "text/plain": [
              "(array([False,  True]), array([ 2794, 13590]))"
            ]
          },
          "metadata": {
            "tags": []
          },
          "execution_count": 47
        }
      ]
    },
    {
      "cell_type": "code",
      "metadata": {
        "colab": {
          "base_uri": "https://localhost:8080/"
        },
        "id": "-sD2gnR-Q8y6",
        "outputId": "a83e4187-b7a8-4aaf-fba8-484ae572a060"
      },
      "source": [
        "from sklearn.metrics import confusion_matrix\r\n",
        "confusion_matrix(K.flatten(temp[:,:,index]), K.flatten(temp_1[0,:,:,index]))"
      ],
      "execution_count": null,
      "outputs": [
        {
          "output_type": "execute_result",
          "data": {
            "text/plain": [
              "array([[13590,     0],\n",
              "       [ 2794,     0]])"
            ]
          },
          "metadata": {
            "tags": []
          },
          "execution_count": 48
        }
      ]
    },
    {
      "cell_type": "code",
      "metadata": {
        "id": "We9KU-W1iai9"
      },
      "source": [
        ""
      ],
      "execution_count": null,
      "outputs": []
    },
    {
      "cell_type": "code",
      "metadata": {
        "id": "cKFnFiH1pCwz"
      },
      "source": [
        "def one_hot_decoder(image):\r\n",
        "    temp = np.zeros((128,128))\r\n",
        "    for i in range(7):\r\n",
        "        temp += i*image[0,:,:,i]\r\n",
        "    return temp"
      ],
      "execution_count": null,
      "outputs": []
    },
    {
      "cell_type": "code",
      "metadata": {
        "id": "CIj7YZEPqZv_",
        "colab": {
          "base_uri": "https://localhost:8080/",
          "height": 285
        },
        "outputId": "9880654b-d3c7-4602-cd93-7f2ec8dc9beb"
      },
      "source": [
        "plt.imshow(tf.cast(result[0,:,:,0], dtype = tf.uint8))"
      ],
      "execution_count": null,
      "outputs": [
        {
          "output_type": "execute_result",
          "data": {
            "text/plain": [
              "<matplotlib.image.AxesImage at 0x7fc479ebb278>"
            ]
          },
          "metadata": {
            "tags": []
          },
          "execution_count": 44
        },
        {
          "output_type": "display_data",
          "data": {
            "image/png": "[encoded data removed]",
            "text/plain": [
              "<Figure size 432x288 with 1 Axes>"
            ]
          },
          "metadata": {
            "tags": [],
            "needs_background": "light"
          }
        }
      ]
    },
    {
      "cell_type": "code",
      "metadata": {
        "id": "_U1jrG7GqfIK"
      },
      "source": [
        ""
      ],
      "execution_count": null,
      "outputs": []
    }
  ]
}