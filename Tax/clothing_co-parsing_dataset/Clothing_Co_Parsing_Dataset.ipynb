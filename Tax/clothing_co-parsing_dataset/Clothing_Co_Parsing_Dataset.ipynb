{
  "nbformat": 4,
  "nbformat_minor": 0,
  "metadata": {
    "accelerator": "GPU",
    "colab": {
      "name": "Clothing Co-Parsing Dataset.ipynb",
      "provenance": [],
      "collapsed_sections": []
    },
    "kernelspec": {
      "display_name": "Python 3",
      "name": "python3"
    }
  },
  "cells": [
    {
      "cell_type": "code",
      "metadata": {
        "colab": {
          "base_uri": "https://localhost:8080/"
        },
        "id": "RkeDXUyXXaWS",
        "outputId": "f67fd100-9b35-452a-ea3c-09d4a0c21425"
      },
      "source": [
        "from google.colab import drive\n",
        "drive.mount('/content/drive')"
      ],
      "execution_count": null,
      "outputs": [
        {
          "output_type": "stream",
          "text": [
            "Mounted at /content/drive\n"
          ],
          "name": "stdout"
        }
      ]
    },
    {
      "cell_type": "code",
      "metadata": {
        "id": "JVdmqXeAqoqc"
      },
      "source": [
        "import numpy as np\n",
        "import pandas as pd\n",
        "import cv2\n",
        "import matplotlib.pyplot as plt\n",
        "%matplotlib inline\n",
        "\n",
        "import json\n",
        "import os\n",
        "\n",
        "import tensorflow as tf\n",
        "from tensorflow import keras\n",
        "from keras.preprocessing.image import load_img,img_to_array\n",
        "from tensorflow.keras import Sequential, Model\n",
        "from tensorflow.keras.layers import Conv2D, Flatten, Dense, Input, Conv2DTranspose,MaxPool2D\n",
        "from tensorflow.keras.layers import concatenate, Activation, MaxPooling2D, Dropout, BatchNormalization\n",
        "from tensorflow.keras.callbacks import EarlyStopping, ModelCheckpoint, ReduceLROnPlateau\n",
        "\n",
        "\n",
        "from keras.optimizers import Adam\n",
        "from keras.losses import binary_crossentropy\n",
        "from tensorflow.keras.utils import Sequence\n",
        "\n",
        "\n",
        "from keras.metrics import MeanIoU\n",
        "import tensorflow.keras.backend as K\n",
        "\n",
        "\n",
        "np.random.seed(42)"
      ],
      "execution_count": null,
      "outputs": []
    },
    {
      "cell_type": "code",
      "metadata": {
        "id": "ouwcJgxhB3UY"
      },
      "source": [
        "BASE_DIR = '/content/drive/MyDrive/Machine Learning/Clothing Co-Parsing Dataset'\n",
        "im_height,im_width = (256,256)"
      ],
      "execution_count": null,
      "outputs": []
    },
    {
      "cell_type": "code",
      "metadata": {
        "colab": {
          "base_uri": "https://localhost:8080/"
        },
        "id": "fogqwEMoB6Pa",
        "outputId": "50872399-5fd8-45ee-e1bd-84266cdbef1d"
      },
      "source": [
        "metadata_df = pd.read_csv(os.path.join(BASE_DIR,'metadata.csv'))\n",
        "metadata_df = metadata_df[['image_path','label_type','label_path']]\n",
        "metadata_df['image_path'] =  metadata_df['image_path'].apply(lambda im_path: os.path.join(BASE_DIR,im_path))\n",
        "metadata_df['label_path'] =  metadata_df['label_path'].apply(lambda l_path: os.path.join(BASE_DIR,'labels',l_path))\n",
        "\n",
        "#Selecting pixel level annoted dataset only\n",
        "metadata_df = metadata_df[metadata_df['label_type'] == 'pixel-level']\n",
        "\n",
        "#shuffle dataframe\n",
        "metadata_df = metadata_df.sample(frac=1).reset_index(drop=True)\n",
        "\n",
        "#train / val split 0.05\n",
        "valid_df = metadata_df.sample(frac=.1,random_state=42)\n",
        "train_df = metadata_df.drop(valid_df.index)\n",
        "\n",
        "(len(valid_df),len(train_df))"
      ],
      "execution_count": null,
      "outputs": [
        {
          "output_type": "execute_result",
          "data": {
            "text/plain": [
              "(100, 904)"
            ]
          },
          "metadata": {
            "tags": []
          },
          "execution_count": 4
        }
      ]
    },
    {
      "cell_type": "code",
      "metadata": {
        "colab": {
          "base_uri": "https://localhost:8080/"
        },
        "id": "Kuadd-pbDLW9",
        "outputId": "9149fb4b-15bf-46a8-af48-0da4f0fd2c58"
      },
      "source": [
        "class_dict = pd.read_csv(os.path.join(BASE_DIR,'class_dict.csv'))\n",
        "\n",
        "classes_name = class_dict['class_name'].tolist() #series\n",
        "classes_name[0] = 'none'\n",
        "\n",
        "classes_rgb = class_dict[['r','g','b']].values.tolist() #values will be tensors\n",
        "print(\"#classes = \",len(class_dict))\n",
        "print(\"classes and their rgb values are \" , classes_name)\n",
        "print(classes_rgb)"
      ],
      "execution_count": null,
      "outputs": [
        {
          "output_type": "stream",
          "text": [
            "#classes =  59\n",
            "classes and their rgb values are  ['none', 'accessories', 'bag', 'belt', 'blazer', 'blouse', 'bodysuit', 'boots', 'bra', 'bracelet', 'cape', 'cardigan', 'clogs', 'coat', 'dress', 'earrings', 'flats', 'glasses', 'gloves', 'hair', 'hat', 'heels', 'hoodie', 'intimate', 'jacket', 'jeans', 'jumper', 'leggings', 'loafers', 'necklace', 'panties', 'pants', 'pumps', 'purse', 'ring', 'romper', 'sandals', 'scarf', 'shirt', 'shoes', 'shorts', 'skin', 'skirt', 'sneakers', 'socks', 'stockings', 'suit', 'sunglasses', 'sweater', 'sweatshirt', 'swimwear', 't-shirt', 'tie', 'tights', 'top', 'vest', 'wallet', 'watch', 'wedges']\n",
            "[[69, 6, 90], [70, 12, 95], [71, 18, 101], [72, 25, 107], [72, 30, 112], [72, 35, 116], [71, 40, 120], [70, 47, 124], [69, 52, 127], [68, 57, 130], [66, 61, 132], [64, 67, 135], [62, 72, 136], [61, 76, 137], [58, 82, 139], [56, 86, 139], [54, 90, 140], [52, 94, 141], [50, 99, 141], [48, 103, 141], [46, 107, 142], [45, 111, 142], [43, 116, 142], [41, 120, 142], [40, 123, 142], [38, 127, 142], [36, 132, 141], [35, 136, 141], [34, 139, 141], [32, 144, 140], [31, 148, 139], [30, 152, 138], [30, 155, 137], [30, 160, 135], [32, 164, 133], [34, 167, 132], [37, 171, 129], [42, 176, 126], [47, 179, 123], [53, 183, 120], [59, 186, 117], [68, 190, 112], [75, 194, 108], [83, 197, 103], [94, 201, 97], [103, 204, 92], [112, 206, 86], [121, 209, 81], [134, 212, 73], [144, 214, 67], [154, 216, 60], [165, 218, 53], [178, 221, 44], [189, 222, 38], [199, 224, 31], [210, 225, 27], [223, 227, 24], [233, 228, 25], [243, 229, 30]]\n"
          ],
          "name": "stdout"
        }
      ]
    },
    {
      "cell_type": "code",
      "metadata": {
        "id": "9SqFHLetDWuo"
      },
      "source": [
        "select_classes = ['null', 'accessories', 'bag', 'belt', 'blazer', 'blouse', 'bodysuit',\n",
        "                  'boots', 'bra', 'bracelet', 'cape', 'cardigan', 'clogs', 'coat', 'dress',\n",
        "                  'earrings', 'flats', 'glasses', 'gloves', 'hair', 'hat', 'heels', 'hoodie',\n",
        "                  'intimate', 'jacket', 'jeans', 'jumper', 'leggings', 'loafers', 'necklace',\n",
        "                  'panties', 'pants', 'pumps', 'purse', 'ring', 'romper', 'sandals', 'scarf',\n",
        "                  'shirt', 'shoes', 'shorts', 'skin', 'skirt', 'sneakers', 'socks', 'stockings',\n",
        "                  'suit', 'sunglasses', 'sweater', 'sweatshirt', 'swimwear', 't-shirt', 'tie',\n",
        "                  'tights', 'top', 'vest', 'wallet', 'watch', 'wedges']"
      ],
      "execution_count": null,
      "outputs": []
    },
    {
      "cell_type": "code",
      "metadata": {
        "colab": {
          "base_uri": "https://localhost:8080/"
        },
        "id": "qCpHGP8PKUFg",
        "outputId": "ae331652-d62b-483d-9dab-70d2c334539c"
      },
      "source": [
        "len(select_classes)"
      ],
      "execution_count": null,
      "outputs": [
        {
          "output_type": "execute_result",
          "data": {
            "text/plain": [
              "59"
            ]
          },
          "metadata": {
            "tags": []
          },
          "execution_count": 7
        }
      ]
    },
    {
      "cell_type": "code",
      "metadata": {
        "id": "drr7RmgBKVm-"
      },
      "source": [
        "def vizualizer(images):\n",
        "  '''\n",
        "  #input : tensor of images\n",
        "  '''\n",
        "  n = len(images)\n",
        "  fig , axes = plt.subplots(nrows=n,ncols=1,figsize=(8,10))\n",
        "  for ax,im in zip(axes,images):\n",
        "    ax.imshow(im.squeeze()/255)\n",
        "  plt.show()\n",
        "\n",
        "# One hot mask decoder\n",
        "def one_hot_mask_decoder(masks,classes_rgb=classes_rgb,im_shape=(im_height,im_width)):\n",
        "  # mask size = (im_h,im_w,n_classes)\n",
        "  high_indexes = np.argmax(masks,axis=-1)\n",
        "  color_codes =  np.array(classes_rgb)\n",
        "  label = color_codes[high_indexes]\n",
        "  return label\n",
        "\n",
        "\n",
        "# One hot mask creator\n",
        "def one_hot_mask_creator(image,classes_names=select_classes,classes_rgb=classes_rgb):\n",
        "  '''\n",
        "    creates indivisual one hot encoded masks for each classes\n",
        "\n",
        "    #input : label image of type array(single mask image) - shape = (im_height,im_width,3) \n",
        "    #input : list of labels \n",
        "    #input : list of rgb values corr. to labels list\n",
        "    #output : 3d mask tensor of shape (im_height,im_width,#of classes)\n",
        "  '''\n",
        "  (im_height,im_width,_) = image.shape\n",
        "  n_classes = len(classes_names)\n",
        "  # masks = np.zeros(shape=(im_height,im_width,n_classes),dtype=np.float32)\n",
        "  masks = []\n",
        "  for rgb in classes_rgb:\n",
        "    temp = np.equal(image,rgb)\n",
        "    temp = np.all(temp,axis=-1)\n",
        "    masks.append(temp)\n",
        "  masks = np.stack(masks,axis=-1)  \n",
        "  return masks.astype(np.float32)"
      ],
      "execution_count": null,
      "outputs": []
    },
    {
      "cell_type": "code",
      "metadata": {
        "id": "lR42RvesQ1Kh"
      },
      "source": [
        "class DataGenerator(Sequence):\n",
        "    'Generates data for Keras'\n",
        "    def __init__(self, images_path_list, labels_path_list, batch_size=1, n_channels=3,im_shape=(im_height,im_width),\n",
        "                 n_classes=59, shuffle=True):\n",
        "        'Initialization'\n",
        "        self.images_path_list = images_path_list\n",
        "        self.labels_path_list = labels_path_list\n",
        "\n",
        "        self.im_shape = im_shape\n",
        "        self.batch_size = batch_size\n",
        "        self.n_channels = n_channels\n",
        "        self.n_classes = n_classes\n",
        "        self.shuffle = shuffle\n",
        "        self.on_epoch_end()\n",
        "        self.indexes = np.arange(len(images_path_list))\n",
        "\n",
        "    def __len__(self):\n",
        "        'Denotes the number of batches per epoch'\n",
        "        return int(np.floor(len(self.images_path_list) / self.batch_size))\n",
        "\n",
        "    def __getitem__(self, index):\n",
        "        'Generate one batch of data'\n",
        "        # Get indexes\n",
        "        indexes = self.indexes[index*self.batch_size:(index+1)*self.batch_size]\n",
        "        # Generate list of paths\n",
        "        batch_image_paths = [self.images_path_list[k] for k in indexes]\n",
        "        batch_masks_paths = [self.labels_path_list[k] for k in indexes]\n",
        "\n",
        "        # Generate data\n",
        "        X, y = self.__load_images_and_labels(batch_image_paths,batch_masks_paths)\n",
        "        # assert(y.shape == (self.batch_size,self.im_shape[0],self.im_shape[1],self.n_classes))\n",
        "        # assert(x.shape == (self.batch_size,self.im_shape[0],self.im_shape[1],self.n_channels))\n",
        "        return X, y\n",
        "\n",
        "    # load images\n",
        "    def __load_images_and_labels(self,images_path_list,labels_path_list):\n",
        "        target_size = self.im_shape\n",
        "        assert(len(images_path_list)==len(labels_path_list))\n",
        "        X = []\n",
        "        y = []\n",
        "        for img,label in zip(images_path_list,labels_path_list):\n",
        "            image = img_to_array(load_img(img,target_size=target_size,color_mode=\"rgb\",interpolation='bilinear'))\n",
        "            mask = img_to_array(load_img(label,target_size=target_size,color_mode=\"rgb\",interpolation='bilinear'))\n",
        "            X.append(image) \n",
        "            y.append(one_hot_mask_creator(mask))\n",
        "\n",
        "        return np.array(X) , np.array(y)\n",
        "\n",
        "\n",
        "    def on_epoch_end(self):\n",
        "        'Updates indexes after each epoch'\n",
        "        self.indexes = np.arange(len(self.images_path_list))\n",
        "        if self.shuffle == True:\n",
        "            np.random.shuffle(self.indexes)"
      ],
      "execution_count": null,
      "outputs": []
    },
    {
      "cell_type": "code",
      "metadata": {
        "id": "uw3EbCPo3z3g"
      },
      "source": [
        "# fn , fext = os.path.splitext() # will return file name and ext of a file\n",
        "\n",
        "def conv_2d_block(x,n_filters,k_size,batchnorm=False):\n",
        "  ''' add two Conv layers with relu activation '''\n",
        "  #first layer\n",
        "  x = Conv2D(filters=n_filters,kernel_size=(k_size,k_size) , \n",
        "             padding='same', kernel_initializer = 'he_normal')(x)\n",
        "  if batchnorm:\n",
        "    x = BatchNormalization()(x)\n",
        "  x = Activation('relu')(x)\n",
        "  # 2nd layer\n",
        "  x = Conv2D(filters=n_filters,kernel_size=(k_size,k_size) , \n",
        "              padding='same', kernel_initializer = 'he_normal')(x)\n",
        "  if batchnorm:\n",
        "      x = BatchNormalization()(x)\n",
        "  x = Activation('relu')(x)\n",
        "\n",
        "  return x\n",
        "\n",
        "def get_u_net(input,n_filters=16,conv_k_size=3,pool_size=2,batchnorm=False,dropout=.2):\n",
        "\n",
        "  c1 = conv_2d_block(input,n_filters * 1 , conv_k_size,batchnorm)\n",
        "  p1 = MaxPool2D(pool_size=(pool_size,pool_size))(c1)\n",
        "  p1 = Dropout(dropout)(p1)\n",
        "\n",
        "  c2 = conv_2d_block(p1,n_filters * 2 , conv_k_size,batchnorm)\n",
        "  p2 = MaxPool2D(pool_size=(pool_size,pool_size))(c2)\n",
        "  p2 = Dropout(dropout)(p2)\n",
        "\n",
        "  c3 = conv_2d_block(p2,n_filters * 4 , conv_k_size,batchnorm)\n",
        "  p3 = MaxPool2D(pool_size=(pool_size,pool_size))(c3)\n",
        "  p3 = Dropout(dropout)(p3)\n",
        " \n",
        "  c4 = conv_2d_block(p3,n_filters * 8 , conv_k_size,batchnorm)\n",
        "  p4 = MaxPool2D(pool_size=(pool_size,pool_size))(c4)\n",
        "  p4 = Dropout(dropout)(p4)\n",
        "\n",
        "  c5 = conv_2d_block(p4,n_filters * 16 , conv_k_size,batchnorm)\n",
        "\n",
        "   #Up sampling\n",
        "  u6 = Conv2DTranspose(filters=n_filters * 8 ,kernel_size=(3,3), strides=(2,2),padding='same')(c5)\n",
        "  u6 = concatenate([u6,c4])\n",
        "  u6 = Dropout(dropout)(u6)\n",
        "  c7 = conv_2d_block(u6,n_filters * 8 , conv_k_size,batchnorm)\n",
        "\n",
        "  u8 = Conv2DTranspose(filters=n_filters * 4 ,kernel_size=(3,3), strides=(2,2),padding='same')(c7)\n",
        "  u8 = concatenate([u8,c3])\n",
        "  u8 = Dropout(dropout)(u8)\n",
        "  c9 = conv_2d_block(u8,n_filters * 4 , conv_k_size,batchnorm)\n",
        "\n",
        "  u10 = Conv2DTranspose(filters=n_filters * 2,kernel_size=(3,3) , strides=(2,2),padding='same')(c9)\n",
        "  u10 = concatenate([u10,c2])\n",
        "  u10 = Dropout(dropout)(u10)\n",
        "  c11 = conv_2d_block(u10,n_filters * 2 , conv_k_size,batchnorm)\n",
        "\n",
        "  u12 = Conv2DTranspose(filters=n_filters * 1 ,kernel_size=(3,3), strides=(2,2),padding='same')(c11)\n",
        "  u12 = concatenate([u12,c1])\n",
        "  u12 = Dropout(dropout)(u12)\n",
        "  c13 = conv_2d_block(u12,n_filters * 1 , conv_k_size,batchnorm)\n",
        "\n",
        "  output = Conv2D(filters=59,kernel_size=(1,1),activation='softmax')(c13) # output layer\n",
        "  model = Model(inputs=input,outputs=output,name='classifier')\n",
        "  return model "
      ],
      "execution_count": null,
      "outputs": []
    },
    {
      "cell_type": "code",
      "metadata": {
        "id": "QrW8-2d7mFaK"
      },
      "source": [
        "import tensorflow.keras.backend as K\n",
        "\n",
        "def DiceLoss(targets, inputs):    \n",
        "    smooth=1e-6\n",
        "    #flatten label and prediction tensors\n",
        "    inputs = K.flatten(inputs)\n",
        "    targets = K.flatten(targets)\n",
        "    # BCE =  binary_crossentropy(targets, inputs)\n",
        "    intersection = K.sum((targets *  inputs))    \n",
        "    dice_loss = 1 - (2*intersection + smooth) / (K.sum(targets) + K.sum(inputs) + smooth)\n",
        "    # Dice_BCE = dice_loss + BCE\n",
        "    \n",
        "    return dice_loss"
      ],
      "execution_count": null,
      "outputs": []
    },
    {
      "cell_type": "code",
      "metadata": {
        "id": "cZA0RUjImKXS"
      },
      "source": [
        "# Set some model compile parameters\n",
        "optimizer = Adam(learning_rate=1e-4)\n",
        "loss      = DiceLoss\n",
        "metrics   = [MeanIoU(59),'accuracy']\n",
        "\n",
        "# Compile our model\n",
        "input = Input(shape=(im_height,im_height,3),name='img')\n",
        "model = get_u_net(input)\n",
        "# model.summary()\n",
        "\n",
        "# For more GPUs\n",
        "# if num_gpus > 1:\n",
        "#     model = multi_gpu_model(model, gpus=num_gpus)\n",
        "\n",
        "model.compile(optimizer=optimizer, loss=loss, metrics=metrics)"
      ],
      "execution_count": null,
      "outputs": []
    },
    {
      "cell_type": "code",
      "metadata": {
        "id": "jQSAJ35OAmXA"
      },
      "source": [
        "\n",
        "params = {\n",
        "      'batch_size' : 8,\n",
        "      'n_channels' : 3,\n",
        "       'n_classes' : 3,\n",
        "        'im_shape' : (im_height,im_width),   \n",
        "        'shuffle' : True,   \n",
        "}\n",
        "\n",
        "\n",
        "#generators\n",
        "train_generator = DataGenerator(train_df['image_path'].values,train_df['label_path'].values,**params)\n",
        "validation_generator = DataGenerator(valid_df['image_path'].values,valid_df['label_path'].values,**params)\n"
      ],
      "execution_count": null,
      "outputs": []
    },
    {
      "cell_type": "code",
      "metadata": {
        "colab": {
          "background_save": true,
          "base_uri": "https://localhost:8080/"
        },
        "id": "smKqTYN64gPd",
        "outputId": "2ef11463-1e94-48ed-f945-6ec317d42988"
      },
      "source": [
        "\n",
        "results = model.fit(x=train_generator,\n",
        "          epochs=50,\n",
        "           verbose=2,\n",
        "          validation_data=validation_generator,\n",
        "                  use_multiprocessing=True,\n",
        "                    workers=6)"
      ],
      "execution_count": null,
      "outputs": [
        {
          "output_type": "stream",
          "text": [
            "Epoch 1/50\n",
            "WARNING:tensorflow:multiprocessing can interact badly with TensorFlow, causing nondeterministic deadlocks. For high performance data pipelines tf.data is recommended.\n",
            "WARNING:tensorflow:multiprocessing can interact badly with TensorFlow, causing nondeterministic deadlocks. For high performance data pipelines tf.data is recommended.\n",
            "WARNING:tensorflow:multiprocessing can interact badly with TensorFlow, causing nondeterministic deadlocks. For high performance data pipelines tf.data is recommended.\n",
            "WARNING:tensorflow:multiprocessing can interact badly with TensorFlow, causing nondeterministic deadlocks. For high performance data pipelines tf.data is recommended.\n",
            "113/113 - 158s - loss: 0.9914 - mean_io_u: 0.4881 - accuracy: 0.0084 - val_loss: 0.9901 - val_mean_io_u: 0.4872 - val_accuracy: 0.0097\n",
            "Epoch 2/50\n",
            "WARNING:tensorflow:multiprocessing can interact badly with TensorFlow, causing nondeterministic deadlocks. For high performance data pipelines tf.data is recommended.\n",
            "WARNING:tensorflow:multiprocessing can interact badly with TensorFlow, causing nondeterministic deadlocks. For high performance data pipelines tf.data is recommended.\n",
            "WARNING:tensorflow:multiprocessing can interact badly with TensorFlow, causing nondeterministic deadlocks. For high performance data pipelines tf.data is recommended.\n",
            "WARNING:tensorflow:multiprocessing can interact badly with TensorFlow, causing nondeterministic deadlocks. For high performance data pipelines tf.data is recommended.\n",
            "113/113 - 161s - loss: 0.9884 - mean_io_u: 0.4884 - accuracy: 0.0114 - val_loss: 0.9826 - val_mean_io_u: 0.4891 - val_accuracy: 0.0171\n",
            "Epoch 3/50\n",
            "WARNING:tensorflow:multiprocessing can interact badly with TensorFlow, causing nondeterministic deadlocks. For high performance data pipelines tf.data is recommended.\n",
            "WARNING:tensorflow:multiprocessing can interact badly with TensorFlow, causing nondeterministic deadlocks. For high performance data pipelines tf.data is recommended.\n",
            "WARNING:tensorflow:multiprocessing can interact badly with TensorFlow, causing nondeterministic deadlocks. For high performance data pipelines tf.data is recommended.\n",
            "WARNING:tensorflow:multiprocessing can interact badly with TensorFlow, causing nondeterministic deadlocks. For high performance data pipelines tf.data is recommended.\n",
            "113/113 - 201s - loss: 0.9837 - mean_io_u: 0.4892 - accuracy: 0.0161 - val_loss: 0.9821 - val_mean_io_u: 0.4892 - val_accuracy: 0.0176\n",
            "Epoch 4/50\n",
            "WARNING:tensorflow:multiprocessing can interact badly with TensorFlow, causing nondeterministic deadlocks. For high performance data pipelines tf.data is recommended.\n",
            "WARNING:tensorflow:multiprocessing can interact badly with TensorFlow, causing nondeterministic deadlocks. For high performance data pipelines tf.data is recommended.\n",
            "WARNING:tensorflow:multiprocessing can interact badly with TensorFlow, causing nondeterministic deadlocks. For high performance data pipelines tf.data is recommended.\n",
            "WARNING:tensorflow:multiprocessing can interact badly with TensorFlow, causing nondeterministic deadlocks. For high performance data pipelines tf.data is recommended.\n",
            "113/113 - 168s - loss: 0.9046 - mean_io_u: 0.5117 - accuracy: 0.0977 - val_loss: 0.6287 - val_mean_io_u: 0.6034 - val_accuracy: 0.3823\n",
            "Epoch 5/50\n",
            "WARNING:tensorflow:multiprocessing can interact badly with TensorFlow, causing nondeterministic deadlocks. For high performance data pipelines tf.data is recommended.\n",
            "WARNING:tensorflow:multiprocessing can interact badly with TensorFlow, causing nondeterministic deadlocks. For high performance data pipelines tf.data is recommended.\n",
            "WARNING:tensorflow:multiprocessing can interact badly with TensorFlow, causing nondeterministic deadlocks. For high performance data pipelines tf.data is recommended.\n",
            "WARNING:tensorflow:multiprocessing can interact badly with TensorFlow, causing nondeterministic deadlocks. For high performance data pipelines tf.data is recommended.\n",
            "113/113 - 158s - loss: 0.2924 - mean_io_u: 0.7689 - accuracy: 0.7282 - val_loss: 0.2308 - val_mean_io_u: 0.8086 - val_accuracy: 0.7916\n",
            "Epoch 6/50\n",
            "WARNING:tensorflow:multiprocessing can interact badly with TensorFlow, causing nondeterministic deadlocks. For high performance data pipelines tf.data is recommended.\n",
            "WARNING:tensorflow:multiprocessing can interact badly with TensorFlow, causing nondeterministic deadlocks. For high performance data pipelines tf.data is recommended.\n",
            "WARNING:tensorflow:multiprocessing can interact badly with TensorFlow, causing nondeterministic deadlocks. For high performance data pipelines tf.data is recommended.\n",
            "WARNING:tensorflow:multiprocessing can interact badly with TensorFlow, causing nondeterministic deadlocks. For high performance data pipelines tf.data is recommended.\n",
            "113/113 - 159s - loss: 0.2305 - mean_io_u: 0.8088 - accuracy: 0.7918 - val_loss: 0.2302 - val_mean_io_u: 0.8090 - val_accuracy: 0.7922\n",
            "Epoch 7/50\n",
            "WARNING:tensorflow:multiprocessing can interact badly with TensorFlow, causing nondeterministic deadlocks. For high performance data pipelines tf.data is recommended.\n",
            "WARNING:tensorflow:multiprocessing can interact badly with TensorFlow, causing nondeterministic deadlocks. For high performance data pipelines tf.data is recommended.\n",
            "WARNING:tensorflow:multiprocessing can interact badly with TensorFlow, causing nondeterministic deadlocks. For high performance data pipelines tf.data is recommended.\n",
            "WARNING:tensorflow:multiprocessing can interact badly with TensorFlow, causing nondeterministic deadlocks. For high performance data pipelines tf.data is recommended.\n",
            "113/113 - 165s - loss: 0.2305 - mean_io_u: 0.8088 - accuracy: 0.7918 - val_loss: 0.2303 - val_mean_io_u: 0.8089 - val_accuracy: 0.7921\n",
            "Epoch 8/50\n",
            "WARNING:tensorflow:multiprocessing can interact badly with TensorFlow, causing nondeterministic deadlocks. For high performance data pipelines tf.data is recommended.\n",
            "WARNING:tensorflow:multiprocessing can interact badly with TensorFlow, causing nondeterministic deadlocks. For high performance data pipelines tf.data is recommended.\n",
            "WARNING:tensorflow:multiprocessing can interact badly with TensorFlow, causing nondeterministic deadlocks. For high performance data pipelines tf.data is recommended.\n",
            "WARNING:tensorflow:multiprocessing can interact badly with TensorFlow, causing nondeterministic deadlocks. For high performance data pipelines tf.data is recommended.\n",
            "113/113 - 160s - loss: 0.2304 - mean_io_u: 0.8089 - accuracy: 0.7919 - val_loss: 0.2302 - val_mean_io_u: 0.8090 - val_accuracy: 0.7921\n",
            "Epoch 9/50\n",
            "WARNING:tensorflow:multiprocessing can interact badly with TensorFlow, causing nondeterministic deadlocks. For high performance data pipelines tf.data is recommended.\n",
            "WARNING:tensorflow:multiprocessing can interact badly with TensorFlow, causing nondeterministic deadlocks. For high performance data pipelines tf.data is recommended.\n",
            "WARNING:tensorflow:multiprocessing can interact badly with TensorFlow, causing nondeterministic deadlocks. For high performance data pipelines tf.data is recommended.\n",
            "WARNING:tensorflow:multiprocessing can interact badly with TensorFlow, causing nondeterministic deadlocks. For high performance data pipelines tf.data is recommended.\n",
            "113/113 - 158s - loss: 0.2291 - mean_io_u: 0.8097 - accuracy: 0.7932 - val_loss: 0.2280 - val_mean_io_u: 0.8105 - val_accuracy: 0.7944\n",
            "Epoch 10/50\n",
            "WARNING:tensorflow:multiprocessing can interact badly with TensorFlow, causing nondeterministic deadlocks. For high performance data pipelines tf.data is recommended.\n",
            "WARNING:tensorflow:multiprocessing can interact badly with TensorFlow, causing nondeterministic deadlocks. For high performance data pipelines tf.data is recommended.\n",
            "WARNING:tensorflow:multiprocessing can interact badly with TensorFlow, causing nondeterministic deadlocks. For high performance data pipelines tf.data is recommended.\n",
            "WARNING:tensorflow:multiprocessing can interact badly with TensorFlow, causing nondeterministic deadlocks. For high performance data pipelines tf.data is recommended.\n",
            "113/113 - 158s - loss: 0.2285 - mean_io_u: 0.8101 - accuracy: 0.7937 - val_loss: 0.2283 - val_mean_io_u: 0.8103 - val_accuracy: 0.7940\n",
            "Epoch 11/50\n",
            "WARNING:tensorflow:multiprocessing can interact badly with TensorFlow, causing nondeterministic deadlocks. For high performance data pipelines tf.data is recommended.\n",
            "WARNING:tensorflow:multiprocessing can interact badly with TensorFlow, causing nondeterministic deadlocks. For high performance data pipelines tf.data is recommended.\n",
            "WARNING:tensorflow:multiprocessing can interact badly with TensorFlow, causing nondeterministic deadlocks. For high performance data pipelines tf.data is recommended.\n",
            "WARNING:tensorflow:multiprocessing can interact badly with TensorFlow, causing nondeterministic deadlocks. For high performance data pipelines tf.data is recommended.\n",
            "113/113 - 165s - loss: 0.2285 - mean_io_u: 0.8102 - accuracy: 0.7938 - val_loss: 0.2282 - val_mean_io_u: 0.8104 - val_accuracy: 0.7941\n",
            "Epoch 12/50\n",
            "WARNING:tensorflow:multiprocessing can interact badly with TensorFlow, causing nondeterministic deadlocks. For high performance data pipelines tf.data is recommended.\n",
            "WARNING:tensorflow:multiprocessing can interact badly with TensorFlow, causing nondeterministic deadlocks. For high performance data pipelines tf.data is recommended.\n",
            "WARNING:tensorflow:multiprocessing can interact badly with TensorFlow, causing nondeterministic deadlocks. For high performance data pipelines tf.data is recommended.\n",
            "WARNING:tensorflow:multiprocessing can interact badly with TensorFlow, causing nondeterministic deadlocks. For high performance data pipelines tf.data is recommended.\n",
            "113/113 - 163s - loss: 0.2285 - mean_io_u: 0.8102 - accuracy: 0.7938 - val_loss: 0.2291 - val_mean_io_u: 0.8097 - val_accuracy: 0.7933\n",
            "Epoch 13/50\n",
            "WARNING:tensorflow:multiprocessing can interact badly with TensorFlow, causing nondeterministic deadlocks. For high performance data pipelines tf.data is recommended.\n",
            "WARNING:tensorflow:multiprocessing can interact badly with TensorFlow, causing nondeterministic deadlocks. For high performance data pipelines tf.data is recommended.\n",
            "WARNING:tensorflow:multiprocessing can interact badly with TensorFlow, causing nondeterministic deadlocks. For high performance data pipelines tf.data is recommended.\n",
            "WARNING:tensorflow:multiprocessing can interact badly with TensorFlow, causing nondeterministic deadlocks. For high performance data pipelines tf.data is recommended.\n",
            "113/113 - 160s - loss: 0.2285 - mean_io_u: 0.8102 - accuracy: 0.7938 - val_loss: 0.2281 - val_mean_io_u: 0.8104 - val_accuracy: 0.7942\n",
            "Epoch 14/50\n",
            "WARNING:tensorflow:multiprocessing can interact badly with TensorFlow, causing nondeterministic deadlocks. For high performance data pipelines tf.data is recommended.\n",
            "WARNING:tensorflow:multiprocessing can interact badly with TensorFlow, causing nondeterministic deadlocks. For high performance data pipelines tf.data is recommended.\n",
            "WARNING:tensorflow:multiprocessing can interact badly with TensorFlow, causing nondeterministic deadlocks. For high performance data pipelines tf.data is recommended.\n",
            "WARNING:tensorflow:multiprocessing can interact badly with TensorFlow, causing nondeterministic deadlocks. For high performance data pipelines tf.data is recommended.\n",
            "113/113 - 159s - loss: 0.2285 - mean_io_u: 0.8102 - accuracy: 0.7938 - val_loss: 0.2275 - val_mean_io_u: 0.8108 - val_accuracy: 0.7948\n",
            "Epoch 15/50\n",
            "WARNING:tensorflow:multiprocessing can interact badly with TensorFlow, causing nondeterministic deadlocks. For high performance data pipelines tf.data is recommended.\n",
            "WARNING:tensorflow:multiprocessing can interact badly with TensorFlow, causing nondeterministic deadlocks. For high performance data pipelines tf.data is recommended.\n",
            "WARNING:tensorflow:multiprocessing can interact badly with TensorFlow, causing nondeterministic deadlocks. For high performance data pipelines tf.data is recommended.\n",
            "WARNING:tensorflow:multiprocessing can interact badly with TensorFlow, causing nondeterministic deadlocks. For high performance data pipelines tf.data is recommended.\n",
            "113/113 - 160s - loss: 0.2285 - mean_io_u: 0.8102 - accuracy: 0.7938 - val_loss: 0.2280 - val_mean_io_u: 0.8105 - val_accuracy: 0.7944\n",
            "Epoch 16/50\n",
            "WARNING:tensorflow:multiprocessing can interact badly with TensorFlow, causing nondeterministic deadlocks. For high performance data pipelines tf.data is recommended.\n",
            "WARNING:tensorflow:multiprocessing can interact badly with TensorFlow, causing nondeterministic deadlocks. For high performance data pipelines tf.data is recommended.\n",
            "WARNING:tensorflow:multiprocessing can interact badly with TensorFlow, causing nondeterministic deadlocks. For high performance data pipelines tf.data is recommended.\n",
            "WARNING:tensorflow:multiprocessing can interact badly with TensorFlow, causing nondeterministic deadlocks. For high performance data pipelines tf.data is recommended.\n",
            "113/113 - 163s - loss: 0.2285 - mean_io_u: 0.8102 - accuracy: 0.7938 - val_loss: 0.2280 - val_mean_io_u: 0.8105 - val_accuracy: 0.7943\n",
            "Epoch 17/50\n",
            "WARNING:tensorflow:multiprocessing can interact badly with TensorFlow, causing nondeterministic deadlocks. For high performance data pipelines tf.data is recommended.\n",
            "WARNING:tensorflow:multiprocessing can interact badly with TensorFlow, causing nondeterministic deadlocks. For high performance data pipelines tf.data is recommended.\n",
            "WARNING:tensorflow:multiprocessing can interact badly with TensorFlow, causing nondeterministic deadlocks. For high performance data pipelines tf.data is recommended.\n",
            "WARNING:tensorflow:multiprocessing can interact badly with TensorFlow, causing nondeterministic deadlocks. For high performance data pipelines tf.data is recommended.\n",
            "113/113 - 162s - loss: 0.2284 - mean_io_u: 0.8102 - accuracy: 0.7938 - val_loss: 0.2277 - val_mean_io_u: 0.8107 - val_accuracy: 0.7946\n",
            "Epoch 18/50\n",
            "WARNING:tensorflow:multiprocessing can interact badly with TensorFlow, causing nondeterministic deadlocks. For high performance data pipelines tf.data is recommended.\n",
            "WARNING:tensorflow:multiprocessing can interact badly with TensorFlow, causing nondeterministic deadlocks. For high performance data pipelines tf.data is recommended.\n",
            "WARNING:tensorflow:multiprocessing can interact badly with TensorFlow, causing nondeterministic deadlocks. For high performance data pipelines tf.data is recommended.\n",
            "WARNING:tensorflow:multiprocessing can interact badly with TensorFlow, causing nondeterministic deadlocks. For high performance data pipelines tf.data is recommended.\n",
            "113/113 - 161s - loss: 0.2284 - mean_io_u: 0.8102 - accuracy: 0.7938 - val_loss: 0.2279 - val_mean_io_u: 0.8106 - val_accuracy: 0.7944\n",
            "Epoch 19/50\n",
            "WARNING:tensorflow:multiprocessing can interact badly with TensorFlow, causing nondeterministic deadlocks. For high performance data pipelines tf.data is recommended.\n",
            "WARNING:tensorflow:multiprocessing can interact badly with TensorFlow, causing nondeterministic deadlocks. For high performance data pipelines tf.data is recommended.\n",
            "WARNING:tensorflow:multiprocessing can interact badly with TensorFlow, causing nondeterministic deadlocks. For high performance data pipelines tf.data is recommended.\n",
            "WARNING:tensorflow:multiprocessing can interact badly with TensorFlow, causing nondeterministic deadlocks. For high performance data pipelines tf.data is recommended.\n",
            "113/113 - 160s - loss: 0.2284 - mean_io_u: 0.8102 - accuracy: 0.7938 - val_loss: 0.2279 - val_mean_io_u: 0.8106 - val_accuracy: 0.7944\n",
            "Epoch 20/50\n",
            "WARNING:tensorflow:multiprocessing can interact badly with TensorFlow, causing nondeterministic deadlocks. For high performance data pipelines tf.data is recommended.\n",
            "WARNING:tensorflow:multiprocessing can interact badly with TensorFlow, causing nondeterministic deadlocks. For high performance data pipelines tf.data is recommended.\n",
            "WARNING:tensorflow:multiprocessing can interact badly with TensorFlow, causing nondeterministic deadlocks. For high performance data pipelines tf.data is recommended.\n",
            "WARNING:tensorflow:multiprocessing can interact badly with TensorFlow, causing nondeterministic deadlocks. For high performance data pipelines tf.data is recommended.\n",
            "113/113 - 165s - loss: 0.2284 - mean_io_u: 0.8102 - accuracy: 0.7938 - val_loss: 0.2274 - val_mean_io_u: 0.8109 - val_accuracy: 0.7949\n",
            "Epoch 21/50\n",
            "WARNING:tensorflow:multiprocessing can interact badly with TensorFlow, causing nondeterministic deadlocks. For high performance data pipelines tf.data is recommended.\n",
            "WARNING:tensorflow:multiprocessing can interact badly with TensorFlow, causing nondeterministic deadlocks. For high performance data pipelines tf.data is recommended.\n",
            "WARNING:tensorflow:multiprocessing can interact badly with TensorFlow, causing nondeterministic deadlocks. For high performance data pipelines tf.data is recommended.\n",
            "WARNING:tensorflow:multiprocessing can interact badly with TensorFlow, causing nondeterministic deadlocks. For high performance data pipelines tf.data is recommended.\n",
            "113/113 - 160s - loss: 0.2284 - mean_io_u: 0.8102 - accuracy: 0.7938 - val_loss: 0.2280 - val_mean_io_u: 0.8105 - val_accuracy: 0.7943\n",
            "Epoch 22/50\n",
            "WARNING:tensorflow:multiprocessing can interact badly with TensorFlow, causing nondeterministic deadlocks. For high performance data pipelines tf.data is recommended.\n",
            "WARNING:tensorflow:multiprocessing can interact badly with TensorFlow, causing nondeterministic deadlocks. For high performance data pipelines tf.data is recommended.\n",
            "WARNING:tensorflow:multiprocessing can interact badly with TensorFlow, causing nondeterministic deadlocks. For high performance data pipelines tf.data is recommended.\n",
            "WARNING:tensorflow:multiprocessing can interact badly with TensorFlow, causing nondeterministic deadlocks. For high performance data pipelines tf.data is recommended.\n",
            "113/113 - 161s - loss: 0.2284 - mean_io_u: 0.8102 - accuracy: 0.7938 - val_loss: 0.2278 - val_mean_io_u: 0.8106 - val_accuracy: 0.7945\n",
            "Epoch 23/50\n",
            "WARNING:tensorflow:multiprocessing can interact badly with TensorFlow, causing nondeterministic deadlocks. For high performance data pipelines tf.data is recommended.\n",
            "WARNING:tensorflow:multiprocessing can interact badly with TensorFlow, causing nondeterministic deadlocks. For high performance data pipelines tf.data is recommended.\n",
            "WARNING:tensorflow:multiprocessing can interact badly with TensorFlow, causing nondeterministic deadlocks. For high performance data pipelines tf.data is recommended.\n",
            "WARNING:tensorflow:multiprocessing can interact badly with TensorFlow, causing nondeterministic deadlocks. For high performance data pipelines tf.data is recommended.\n",
            "113/113 - 163s - loss: 0.2284 - mean_io_u: 0.8102 - accuracy: 0.7938 - val_loss: 0.2278 - val_mean_io_u: 0.8106 - val_accuracy: 0.7944\n",
            "Epoch 24/50\n",
            "WARNING:tensorflow:multiprocessing can interact badly with TensorFlow, causing nondeterministic deadlocks. For high performance data pipelines tf.data is recommended.\n",
            "WARNING:tensorflow:multiprocessing can interact badly with TensorFlow, causing nondeterministic deadlocks. For high performance data pipelines tf.data is recommended.\n",
            "WARNING:tensorflow:multiprocessing can interact badly with TensorFlow, causing nondeterministic deadlocks. For high performance data pipelines tf.data is recommended.\n",
            "WARNING:tensorflow:multiprocessing can interact badly with TensorFlow, causing nondeterministic deadlocks. For high performance data pipelines tf.data is recommended.\n",
            "113/113 - 158s - loss: 0.2284 - mean_io_u: 0.8102 - accuracy: 0.7938 - val_loss: 0.2287 - val_mean_io_u: 0.8100 - val_accuracy: 0.7936\n",
            "Epoch 25/50\n",
            "WARNING:tensorflow:multiprocessing can interact badly with TensorFlow, causing nondeterministic deadlocks. For high performance data pipelines tf.data is recommended.\n",
            "WARNING:tensorflow:multiprocessing can interact badly with TensorFlow, causing nondeterministic deadlocks. For high performance data pipelines tf.data is recommended.\n",
            "WARNING:tensorflow:multiprocessing can interact badly with TensorFlow, causing nondeterministic deadlocks. For high performance data pipelines tf.data is recommended.\n",
            "WARNING:tensorflow:multiprocessing can interact badly with TensorFlow, causing nondeterministic deadlocks. For high performance data pipelines tf.data is recommended.\n",
            "113/113 - 161s - loss: 0.2284 - mean_io_u: 0.8102 - accuracy: 0.7938 - val_loss: 0.2283 - val_mean_io_u: 0.8103 - val_accuracy: 0.7940\n",
            "Epoch 26/50\n",
            "WARNING:tensorflow:multiprocessing can interact badly with TensorFlow, causing nondeterministic deadlocks. For high performance data pipelines tf.data is recommended.\n",
            "WARNING:tensorflow:multiprocessing can interact badly with TensorFlow, causing nondeterministic deadlocks. For high performance data pipelines tf.data is recommended.\n",
            "WARNING:tensorflow:multiprocessing can interact badly with TensorFlow, causing nondeterministic deadlocks. For high performance data pipelines tf.data is recommended.\n",
            "WARNING:tensorflow:multiprocessing can interact badly with TensorFlow, causing nondeterministic deadlocks. For high performance data pipelines tf.data is recommended.\n",
            "113/113 - 157s - loss: 0.2284 - mean_io_u: 0.8102 - accuracy: 0.7938 - val_loss: 0.2288 - val_mean_io_u: 0.8099 - val_accuracy: 0.7935\n",
            "Epoch 27/50\n",
            "WARNING:tensorflow:multiprocessing can interact badly with TensorFlow, causing nondeterministic deadlocks. For high performance data pipelines tf.data is recommended.\n",
            "WARNING:tensorflow:multiprocessing can interact badly with TensorFlow, causing nondeterministic deadlocks. For high performance data pipelines tf.data is recommended.\n",
            "WARNING:tensorflow:multiprocessing can interact badly with TensorFlow, causing nondeterministic deadlocks. For high performance data pipelines tf.data is recommended.\n",
            "WARNING:tensorflow:multiprocessing can interact badly with TensorFlow, causing nondeterministic deadlocks. For high performance data pipelines tf.data is recommended.\n",
            "113/113 - 163s - loss: 0.2284 - mean_io_u: 0.8102 - accuracy: 0.7938 - val_loss: 0.2276 - val_mean_io_u: 0.8108 - val_accuracy: 0.7948\n",
            "Epoch 28/50\n",
            "WARNING:tensorflow:multiprocessing can interact badly with TensorFlow, causing nondeterministic deadlocks. For high performance data pipelines tf.data is recommended.\n",
            "WARNING:tensorflow:multiprocessing can interact badly with TensorFlow, causing nondeterministic deadlocks. For high performance data pipelines tf.data is recommended.\n",
            "WARNING:tensorflow:multiprocessing can interact badly with TensorFlow, causing nondeterministic deadlocks. For high performance data pipelines tf.data is recommended.\n",
            "WARNING:tensorflow:multiprocessing can interact badly with TensorFlow, causing nondeterministic deadlocks. For high performance data pipelines tf.data is recommended.\n",
            "113/113 - 163s - loss: 0.2284 - mean_io_u: 0.8102 - accuracy: 0.7938 - val_loss: 0.2286 - val_mean_io_u: 0.8101 - val_accuracy: 0.7938\n",
            "Epoch 29/50\n",
            "WARNING:tensorflow:multiprocessing can interact badly with TensorFlow, causing nondeterministic deadlocks. For high performance data pipelines tf.data is recommended.\n",
            "WARNING:tensorflow:multiprocessing can interact badly with TensorFlow, causing nondeterministic deadlocks. For high performance data pipelines tf.data is recommended.\n",
            "WARNING:tensorflow:multiprocessing can interact badly with TensorFlow, causing nondeterministic deadlocks. For high performance data pipelines tf.data is recommended.\n",
            "WARNING:tensorflow:multiprocessing can interact badly with TensorFlow, causing nondeterministic deadlocks. For high performance data pipelines tf.data is recommended.\n",
            "113/113 - 158s - loss: 0.2284 - mean_io_u: 0.8102 - accuracy: 0.7938 - val_loss: 0.2277 - val_mean_io_u: 0.8107 - val_accuracy: 0.7946\n",
            "Epoch 30/50\n",
            "WARNING:tensorflow:multiprocessing can interact badly with TensorFlow, causing nondeterministic deadlocks. For high performance data pipelines tf.data is recommended.\n",
            "WARNING:tensorflow:multiprocessing can interact badly with TensorFlow, causing nondeterministic deadlocks. For high performance data pipelines tf.data is recommended.\n",
            "WARNING:tensorflow:multiprocessing can interact badly with TensorFlow, causing nondeterministic deadlocks. For high performance data pipelines tf.data is recommended.\n",
            "WARNING:tensorflow:multiprocessing can interact badly with TensorFlow, causing nondeterministic deadlocks. For high performance data pipelines tf.data is recommended.\n",
            "113/113 - 161s - loss: 0.2284 - mean_io_u: 0.8102 - accuracy: 0.7938 - val_loss: 0.2280 - val_mean_io_u: 0.8105 - val_accuracy: 0.7944\n",
            "Epoch 31/50\n",
            "WARNING:tensorflow:multiprocessing can interact badly with TensorFlow, causing nondeterministic deadlocks. For high performance data pipelines tf.data is recommended.\n",
            "WARNING:tensorflow:multiprocessing can interact badly with TensorFlow, causing nondeterministic deadlocks. For high performance data pipelines tf.data is recommended.\n",
            "WARNING:tensorflow:multiprocessing can interact badly with TensorFlow, causing nondeterministic deadlocks. For high performance data pipelines tf.data is recommended.\n",
            "WARNING:tensorflow:multiprocessing can interact badly with TensorFlow, causing nondeterministic deadlocks. For high performance data pipelines tf.data is recommended.\n",
            "113/113 - 163s - loss: 0.2284 - mean_io_u: 0.8102 - accuracy: 0.7938 - val_loss: 0.2283 - val_mean_io_u: 0.8103 - val_accuracy: 0.7940\n",
            "Epoch 32/50\n",
            "WARNING:tensorflow:multiprocessing can interact badly with TensorFlow, causing nondeterministic deadlocks. For high performance data pipelines tf.data is recommended.\n",
            "WARNING:tensorflow:multiprocessing can interact badly with TensorFlow, causing nondeterministic deadlocks. For high performance data pipelines tf.data is recommended.\n",
            "WARNING:tensorflow:multiprocessing can interact badly with TensorFlow, causing nondeterministic deadlocks. For high performance data pipelines tf.data is recommended.\n",
            "WARNING:tensorflow:multiprocessing can interact badly with TensorFlow, causing nondeterministic deadlocks. For high performance data pipelines tf.data is recommended.\n",
            "113/113 - 158s - loss: 0.2284 - mean_io_u: 0.8102 - accuracy: 0.7938 - val_loss: 0.2272 - val_mean_io_u: 0.8111 - val_accuracy: 0.7952\n",
            "Epoch 33/50\n",
            "WARNING:tensorflow:multiprocessing can interact badly with TensorFlow, causing nondeterministic deadlocks. For high performance data pipelines tf.data is recommended.\n",
            "WARNING:tensorflow:multiprocessing can interact badly with TensorFlow, causing nondeterministic deadlocks. For high performance data pipelines tf.data is recommended.\n",
            "WARNING:tensorflow:multiprocessing can interact badly with TensorFlow, causing nondeterministic deadlocks. For high performance data pipelines tf.data is recommended.\n",
            "WARNING:tensorflow:multiprocessing can interact badly with TensorFlow, causing nondeterministic deadlocks. For high performance data pipelines tf.data is recommended.\n",
            "113/113 - 162s - loss: 0.2284 - mean_io_u: 0.8102 - accuracy: 0.7938 - val_loss: 0.2279 - val_mean_io_u: 0.8106 - val_accuracy: 0.7944\n",
            "Epoch 34/50\n",
            "WARNING:tensorflow:multiprocessing can interact badly with TensorFlow, causing nondeterministic deadlocks. For high performance data pipelines tf.data is recommended.\n",
            "WARNING:tensorflow:multiprocessing can interact badly with TensorFlow, causing nondeterministic deadlocks. For high performance data pipelines tf.data is recommended.\n",
            "WARNING:tensorflow:multiprocessing can interact badly with TensorFlow, causing nondeterministic deadlocks. For high performance data pipelines tf.data is recommended.\n",
            "WARNING:tensorflow:multiprocessing can interact badly with TensorFlow, causing nondeterministic deadlocks. For high performance data pipelines tf.data is recommended.\n",
            "113/113 - 155s - loss: 0.2284 - mean_io_u: 0.8102 - accuracy: 0.7938 - val_loss: 0.2279 - val_mean_io_u: 0.8106 - val_accuracy: 0.7945\n",
            "Epoch 35/50\n",
            "WARNING:tensorflow:multiprocessing can interact badly with TensorFlow, causing nondeterministic deadlocks. For high performance data pipelines tf.data is recommended.\n",
            "WARNING:tensorflow:multiprocessing can interact badly with TensorFlow, causing nondeterministic deadlocks. For high performance data pipelines tf.data is recommended.\n",
            "WARNING:tensorflow:multiprocessing can interact badly with TensorFlow, causing nondeterministic deadlocks. For high performance data pipelines tf.data is recommended.\n",
            "WARNING:tensorflow:multiprocessing can interact badly with TensorFlow, causing nondeterministic deadlocks. For high performance data pipelines tf.data is recommended.\n",
            "113/113 - 159s - loss: 0.2284 - mean_io_u: 0.8102 - accuracy: 0.7938 - val_loss: 0.2288 - val_mean_io_u: 0.8099 - val_accuracy: 0.7935\n",
            "Epoch 36/50\n",
            "WARNING:tensorflow:multiprocessing can interact badly with TensorFlow, causing nondeterministic deadlocks. For high performance data pipelines tf.data is recommended.\n",
            "WARNING:tensorflow:multiprocessing can interact badly with TensorFlow, causing nondeterministic deadlocks. For high performance data pipelines tf.data is recommended.\n",
            "WARNING:tensorflow:multiprocessing can interact badly with TensorFlow, causing nondeterministic deadlocks. For high performance data pipelines tf.data is recommended.\n",
            "WARNING:tensorflow:multiprocessing can interact badly with TensorFlow, causing nondeterministic deadlocks. For high performance data pipelines tf.data is recommended.\n",
            "113/113 - 160s - loss: 0.2284 - mean_io_u: 0.8102 - accuracy: 0.7938 - val_loss: 0.2279 - val_mean_io_u: 0.8106 - val_accuracy: 0.7945\n",
            "Epoch 37/50\n",
            "WARNING:tensorflow:multiprocessing can interact badly with TensorFlow, causing nondeterministic deadlocks. For high performance data pipelines tf.data is recommended.\n",
            "WARNING:tensorflow:multiprocessing can interact badly with TensorFlow, causing nondeterministic deadlocks. For high performance data pipelines tf.data is recommended.\n",
            "WARNING:tensorflow:multiprocessing can interact badly with TensorFlow, causing nondeterministic deadlocks. For high performance data pipelines tf.data is recommended.\n",
            "WARNING:tensorflow:multiprocessing can interact badly with TensorFlow, causing nondeterministic deadlocks. For high performance data pipelines tf.data is recommended.\n",
            "113/113 - 159s - loss: 0.2284 - mean_io_u: 0.8102 - accuracy: 0.7938 - val_loss: 0.2285 - val_mean_io_u: 0.8101 - val_accuracy: 0.7938\n",
            "Epoch 38/50\n",
            "WARNING:tensorflow:multiprocessing can interact badly with TensorFlow, causing nondeterministic deadlocks. For high performance data pipelines tf.data is recommended.\n",
            "WARNING:tensorflow:multiprocessing can interact badly with TensorFlow, causing nondeterministic deadlocks. For high performance data pipelines tf.data is recommended.\n",
            "WARNING:tensorflow:multiprocessing can interact badly with TensorFlow, causing nondeterministic deadlocks. For high performance data pipelines tf.data is recommended.\n",
            "WARNING:tensorflow:multiprocessing can interact badly with TensorFlow, causing nondeterministic deadlocks. For high performance data pipelines tf.data is recommended.\n",
            "113/113 - 164s - loss: 0.2284 - mean_io_u: 0.8102 - accuracy: 0.7938 - val_loss: 0.2288 - val_mean_io_u: 0.8099 - val_accuracy: 0.7936\n",
            "Epoch 39/50\n",
            "WARNING:tensorflow:multiprocessing can interact badly with TensorFlow, causing nondeterministic deadlocks. For high performance data pipelines tf.data is recommended.\n",
            "WARNING:tensorflow:multiprocessing can interact badly with TensorFlow, causing nondeterministic deadlocks. For high performance data pipelines tf.data is recommended.\n",
            "WARNING:tensorflow:multiprocessing can interact badly with TensorFlow, causing nondeterministic deadlocks. For high performance data pipelines tf.data is recommended.\n",
            "WARNING:tensorflow:multiprocessing can interact badly with TensorFlow, causing nondeterministic deadlocks. For high performance data pipelines tf.data is recommended.\n",
            "113/113 - 161s - loss: 0.2284 - mean_io_u: 0.8102 - accuracy: 0.7938 - val_loss: 0.2272 - val_mean_io_u: 0.8110 - val_accuracy: 0.7951\n",
            "Epoch 40/50\n",
            "WARNING:tensorflow:multiprocessing can interact badly with TensorFlow, causing nondeterministic deadlocks. For high performance data pipelines tf.data is recommended.\n",
            "WARNING:tensorflow:multiprocessing can interact badly with TensorFlow, causing nondeterministic deadlocks. For high performance data pipelines tf.data is recommended.\n",
            "WARNING:tensorflow:multiprocessing can interact badly with TensorFlow, causing nondeterministic deadlocks. For high performance data pipelines tf.data is recommended.\n",
            "WARNING:tensorflow:multiprocessing can interact badly with TensorFlow, causing nondeterministic deadlocks. For high performance data pipelines tf.data is recommended.\n",
            "113/113 - 167s - loss: 0.2284 - mean_io_u: 0.8102 - accuracy: 0.7938 - val_loss: 0.2282 - val_mean_io_u: 0.8103 - val_accuracy: 0.7941\n",
            "Epoch 41/50\n",
            "WARNING:tensorflow:multiprocessing can interact badly with TensorFlow, causing nondeterministic deadlocks. For high performance data pipelines tf.data is recommended.\n",
            "WARNING:tensorflow:multiprocessing can interact badly with TensorFlow, causing nondeterministic deadlocks. For high performance data pipelines tf.data is recommended.\n",
            "WARNING:tensorflow:multiprocessing can interact badly with TensorFlow, causing nondeterministic deadlocks. For high performance data pipelines tf.data is recommended.\n",
            "WARNING:tensorflow:multiprocessing can interact badly with TensorFlow, causing nondeterministic deadlocks. For high performance data pipelines tf.data is recommended.\n",
            "113/113 - 162s - loss: 0.2284 - mean_io_u: 0.8102 - accuracy: 0.7938 - val_loss: 0.2284 - val_mean_io_u: 0.8102 - val_accuracy: 0.7939\n",
            "Epoch 42/50\n",
            "WARNING:tensorflow:multiprocessing can interact badly with TensorFlow, causing nondeterministic deadlocks. For high performance data pipelines tf.data is recommended.\n",
            "WARNING:tensorflow:multiprocessing can interact badly with TensorFlow, causing nondeterministic deadlocks. For high performance data pipelines tf.data is recommended.\n",
            "WARNING:tensorflow:multiprocessing can interact badly with TensorFlow, causing nondeterministic deadlocks. For high performance data pipelines tf.data is recommended.\n",
            "WARNING:tensorflow:multiprocessing can interact badly with TensorFlow, causing nondeterministic deadlocks. For high performance data pipelines tf.data is recommended.\n",
            "113/113 - 161s - loss: 0.2284 - mean_io_u: 0.8102 - accuracy: 0.7938 - val_loss: 0.2280 - val_mean_io_u: 0.8105 - val_accuracy: 0.7943\n",
            "Epoch 43/50\n",
            "WARNING:tensorflow:multiprocessing can interact badly with TensorFlow, causing nondeterministic deadlocks. For high performance data pipelines tf.data is recommended.\n",
            "WARNING:tensorflow:multiprocessing can interact badly with TensorFlow, causing nondeterministic deadlocks. For high performance data pipelines tf.data is recommended.\n",
            "WARNING:tensorflow:multiprocessing can interact badly with TensorFlow, causing nondeterministic deadlocks. For high performance data pipelines tf.data is recommended.\n",
            "WARNING:tensorflow:multiprocessing can interact badly with TensorFlow, causing nondeterministic deadlocks. For high performance data pipelines tf.data is recommended.\n",
            "113/113 - 159s - loss: 0.2284 - mean_io_u: 0.8102 - accuracy: 0.7938 - val_loss: 0.2284 - val_mean_io_u: 0.8102 - val_accuracy: 0.7939\n",
            "Epoch 44/50\n",
            "WARNING:tensorflow:multiprocessing can interact badly with TensorFlow, causing nondeterministic deadlocks. For high performance data pipelines tf.data is recommended.\n",
            "WARNING:tensorflow:multiprocessing can interact badly with TensorFlow, causing nondeterministic deadlocks. For high performance data pipelines tf.data is recommended.\n",
            "WARNING:tensorflow:multiprocessing can interact badly with TensorFlow, causing nondeterministic deadlocks. For high performance data pipelines tf.data is recommended.\n",
            "WARNING:tensorflow:multiprocessing can interact badly with TensorFlow, causing nondeterministic deadlocks. For high performance data pipelines tf.data is recommended.\n",
            "113/113 - 161s - loss: 0.2284 - mean_io_u: 0.8102 - accuracy: 0.7938 - val_loss: 0.2280 - val_mean_io_u: 0.8105 - val_accuracy: 0.7943\n",
            "Epoch 45/50\n",
            "WARNING:tensorflow:multiprocessing can interact badly with TensorFlow, causing nondeterministic deadlocks. For high performance data pipelines tf.data is recommended.\n",
            "WARNING:tensorflow:multiprocessing can interact badly with TensorFlow, causing nondeterministic deadlocks. For high performance data pipelines tf.data is recommended.\n",
            "WARNING:tensorflow:multiprocessing can interact badly with TensorFlow, causing nondeterministic deadlocks. For high performance data pipelines tf.data is recommended.\n",
            "WARNING:tensorflow:multiprocessing can interact badly with TensorFlow, causing nondeterministic deadlocks. For high performance data pipelines tf.data is recommended.\n",
            "113/113 - 156s - loss: 0.2284 - mean_io_u: 0.8102 - accuracy: 0.7938 - val_loss: 0.2288 - val_mean_io_u: 0.8099 - val_accuracy: 0.7936\n",
            "Epoch 46/50\n",
            "WARNING:tensorflow:multiprocessing can interact badly with TensorFlow, causing nondeterministic deadlocks. For high performance data pipelines tf.data is recommended.\n",
            "WARNING:tensorflow:multiprocessing can interact badly with TensorFlow, causing nondeterministic deadlocks. For high performance data pipelines tf.data is recommended.\n",
            "WARNING:tensorflow:multiprocessing can interact badly with TensorFlow, causing nondeterministic deadlocks. For high performance data pipelines tf.data is recommended.\n",
            "WARNING:tensorflow:multiprocessing can interact badly with TensorFlow, causing nondeterministic deadlocks. For high performance data pipelines tf.data is recommended.\n",
            "113/113 - 160s - loss: 0.2284 - mean_io_u: 0.8102 - accuracy: 0.7938 - val_loss: 0.2276 - val_mean_io_u: 0.8107 - val_accuracy: 0.7947\n",
            "Epoch 47/50\n",
            "WARNING:tensorflow:multiprocessing can interact badly with TensorFlow, causing nondeterministic deadlocks. For high performance data pipelines tf.data is recommended.\n",
            "WARNING:tensorflow:multiprocessing can interact badly with TensorFlow, causing nondeterministic deadlocks. For high performance data pipelines tf.data is recommended.\n",
            "WARNING:tensorflow:multiprocessing can interact badly with TensorFlow, causing nondeterministic deadlocks. For high performance data pipelines tf.data is recommended.\n",
            "WARNING:tensorflow:multiprocessing can interact badly with TensorFlow, causing nondeterministic deadlocks. For high performance data pipelines tf.data is recommended.\n",
            "113/113 - 161s - loss: 0.2284 - mean_io_u: 0.8102 - accuracy: 0.7938 - val_loss: 0.2278 - val_mean_io_u: 0.8106 - val_accuracy: 0.7945\n",
            "Epoch 48/50\n",
            "WARNING:tensorflow:multiprocessing can interact badly with TensorFlow, causing nondeterministic deadlocks. For high performance data pipelines tf.data is recommended.\n",
            "WARNING:tensorflow:multiprocessing can interact badly with TensorFlow, causing nondeterministic deadlocks. For high performance data pipelines tf.data is recommended.\n",
            "WARNING:tensorflow:multiprocessing can interact badly with TensorFlow, causing nondeterministic deadlocks. For high performance data pipelines tf.data is recommended.\n",
            "WARNING:tensorflow:multiprocessing can interact badly with TensorFlow, causing nondeterministic deadlocks. For high performance data pipelines tf.data is recommended.\n",
            "113/113 - 161s - loss: 0.2284 - mean_io_u: 0.8102 - accuracy: 0.7938 - val_loss: 0.2271 - val_mean_io_u: 0.8111 - val_accuracy: 0.7952\n",
            "Epoch 49/50\n",
            "WARNING:tensorflow:multiprocessing can interact badly with TensorFlow, causing nondeterministic deadlocks. For high performance data pipelines tf.data is recommended.\n",
            "WARNING:tensorflow:multiprocessing can interact badly with TensorFlow, causing nondeterministic deadlocks. For high performance data pipelines tf.data is recommended.\n",
            "WARNING:tensorflow:multiprocessing can interact badly with TensorFlow, causing nondeterministic deadlocks. For high performance data pipelines tf.data is recommended.\n",
            "WARNING:tensorflow:multiprocessing can interact badly with TensorFlow, causing nondeterministic deadlocks. For high performance data pipelines tf.data is recommended.\n",
            "113/113 - 158s - loss: 0.2284 - mean_io_u: 0.8102 - accuracy: 0.7938 - val_loss: 0.2283 - val_mean_io_u: 0.8103 - val_accuracy: 0.7940\n",
            "Epoch 50/50\n",
            "WARNING:tensorflow:multiprocessing can interact badly with TensorFlow, causing nondeterministic deadlocks. For high performance data pipelines tf.data is recommended.\n",
            "WARNING:tensorflow:multiprocessing can interact badly with TensorFlow, causing nondeterministic deadlocks. For high performance data pipelines tf.data is recommended.\n",
            "WARNING:tensorflow:multiprocessing can interact badly with TensorFlow, causing nondeterministic deadlocks. For high performance data pipelines tf.data is recommended.\n",
            "WARNING:tensorflow:multiprocessing can interact badly with TensorFlow, causing nondeterministic deadlocks. For high performance data pipelines tf.data is recommended.\n",
            "113/113 - 158s - loss: 0.2284 - mean_io_u: 0.8102 - accuracy: 0.7938 - val_loss: 0.2282 - val_mean_io_u: 0.8103 - val_accuracy: 0.7940\n"
          ],
          "name": "stdout"
        }
      ]
    },
    {
      "cell_type": "code",
      "metadata": {
        "colab": {
          "background_save": true
        },
        "id": "AF-WmEJV8bSL"
      },
      "source": [
        "# how to load image efficiently??\n",
        "# how to agumentation of data\n",
        "# loggit??\n",
        "# dice loss\n",
        "# IoU score\n"
      ],
      "execution_count": null,
      "outputs": []
    },
    {
      "cell_type": "code",
      "metadata": {
        "id": "SxJyNDazs2BU"
      },
      "source": [
        "# Create Keras Pipeline for that\n",
        "# results"
      ],
      "execution_count": null,
      "outputs": []
    },
    {
      "cell_type": "code",
      "metadata": {
        "id": "FC4baOArw2zo"
      },
      "source": [
        "# model.summary()"
      ],
      "execution_count": null,
      "outputs": []
    },
    {
      "cell_type": "code",
      "metadata": {
        "id": "yCisfVK3king"
      },
      "source": [
        "x = valid_df['image_path'][514]\n",
        "y_true = valid_df['label_path'][514]\n",
        "x = img_to_array(load_img(x,target_size=(256,256),color_mode=\"rgb\",interpolation='bilinear'))\n",
        "y_true = img_to_array(load_img(y_true,target_size=(256,256),color_mode=\"rgb\",interpolation='bilinear'))\n"
      ],
      "execution_count": null,
      "outputs": []
    },
    {
      "cell_type": "code",
      "metadata": {
        "id": "BqBUCZqjRC8I"
      },
      "source": [
        "y = model.predict(x.reshape(1,256,256,3))"
      ],
      "execution_count": null,
      "outputs": []
    },
    {
      "cell_type": "code",
      "metadata": {
        "id": "pcVu7dGlTZKB"
      },
      "source": [
        "valid_df['image_path'].head()"
      ],
      "execution_count": null,
      "outputs": []
    },
    {
      "cell_type": "code",
      "metadata": {
        "id": "61eVDdksFmL4"
      },
      "source": [
        "plt.imshow(x/255.0)"
      ],
      "execution_count": null,
      "outputs": []
    },
    {
      "cell_type": "code",
      "metadata": {
        "id": "jlxB34yRF8rY"
      },
      "source": [
        "plt.imshow(one_hot_mask_decoder(y).squeeze()/255)"
      ],
      "execution_count": null,
      "outputs": []
    },
    {
      "cell_type": "code",
      "metadata": {
        "id": "kOOXiJchKVxo"
      },
      "source": [
        "plt.imshow(y_true/255.0)\n"
      ],
      "execution_count": null,
      "outputs": []
    },
    {
      "cell_type": "code",
      "metadata": {
        "id": "FojegmKaSNmK"
      },
      "source": [
        ""
      ],
      "execution_count": null,
      "outputs": []
    }
  ]
}